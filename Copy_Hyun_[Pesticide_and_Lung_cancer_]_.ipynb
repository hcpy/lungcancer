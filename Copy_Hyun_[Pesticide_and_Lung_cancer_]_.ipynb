{
  "nbformat": 4,
  "nbformat_minor": 0,
  "metadata": {
    "colab": {
      "name": "Copy Hyun [Pesticide and Lung cancer ] .ipynb",
      "provenance": [],
      "collapsed_sections": [],
      "include_colab_link": true
    },
    "kernelspec": {
      "name": "python3",
      "display_name": "Python 3"
    },
    "language_info": {
      "name": "python"
    }
  },
  "cells": [
    {
      "cell_type": "markdown",
      "metadata": {
        "id": "view-in-github",
        "colab_type": "text"
      },
      "source": [
        "<a href=\"https://colab.research.google.com/github/hcpy/lungcancer/blob/main/Copy_Hyun_%5BPesticide_and_Lung_cancer_%5D_.ipynb\" target=\"_parent\"><img src=\"https://colab.research.google.com/assets/colab-badge.svg\" alt=\"Open In Colab\"/></a>"
      ]
    },
    {
      "cell_type": "markdown",
      "source": [
        "Remaining group members to write script for Cynthia to read"
      ],
      "metadata": {
        "id": "Y8rm7GTVJj00"
      }
    },
    {
      "cell_type": "code",
      "execution_count": null,
      "metadata": {
        "id": "vCfvAXuEJM7O"
      },
      "outputs": [],
      "source": [
        "#1 Cynthia 2. Hyun 3. Santi 4. Santi 5. Hyun 6. Cynthia\n",
        " \n"
      ]
    },
    {
      "cell_type": "markdown",
      "source": [
        "Github upload from Cynthia's cleaned data\n",
        "https://github.com/hcpy/lungcancer/blob/main/Trimmed%20Data%20Set%20for%20Team%20Project.csv\n",
        "\n",
        "# Data link\n",
        "# https://figshare.com/articles/dataset/Pesticide_and_lung_cancer/12356270?file=26424602\n",
        "\n",
        "\n",
        "\n",
        "#What is the likelihood of getting lung cancer from a) smoking b) pesticides c) both\n",
        "\n",
        "\n",
        "\n",
        "\n",
        "Other group members: write script for Cynthia to read for the video recording\n"
      ],
      "metadata": {
        "id": "B0xiA7wtrimu"
      }
    },
    {
      "cell_type": "markdown",
      "source": [
        "#1 Cynthia"
      ],
      "metadata": {
        "id": "QP9iRU8CalTW"
      }
    },
    {
      "cell_type": "code",
      "source": [
        "#1 Cynthia\n",
        "#Set the data sets to a value or arguement, examine the data sets and combine them.\n",
        "! ls -lsth /content/Team2/"
      ],
      "metadata": {
        "id": "iaaTphthJnps",
        "colab": {
          "base_uri": "https://localhost:8080/"
        },
        "outputId": "62be033d-b6ab-4a1f-a000-8eb14255ebff"
      },
      "execution_count": null,
      "outputs": [
        {
          "output_type": "stream",
          "name": "stdout",
          "text": [
            "total 32K\n",
            "16K -rw-r--r-- 1 root root 15K Jul 22 20:06 Smoker.csv\n",
            "16K -rw-r--r-- 1 root root 15K Jul 22 19:56 Gephosate.csv\n"
          ]
        }
      ]
    },
    {
      "cell_type": "code",
      "source": [
        "! head Smoker.csv\n",
        "! head Gephosate.csv\n",
        "! tail Smoker.csv\n",
        "! tail Gephosate.csv\n",
        "\n"
      ],
      "metadata": {
        "colab": {
          "base_uri": "https://localhost:8080/"
        },
        "id": "0yhEyL4mtcYB",
        "outputId": "0e925dc4-e79f-4404-8482-edb08f95c859"
      },
      "execution_count": null,
      "outputs": [
        {
          "output_type": "stream",
          "name": "stdout",
          "text": [
            "﻿ID,LungCA,Gender,age,age_group,status,CigSmoke1,Cigarette_total\r\n",
            "1,1,1,75,4,2,1,0\r\n",
            "1.1,0,1,70,3,2,1,0\r\n",
            "1.2,0,1,72,3,2,1,0\r\n",
            "2,1,0,58,2,2,0,246375\r\n",
            "2.1,0,0,55,2,2,1,0\r\n",
            "2.2,0,0,62,2,2,1,0\r\n",
            "3,1,1,65,3,2,1,0\r\n",
            "3.1,0,1,60,2,2,1,0\r\n",
            "3.2,0,1,68,3,2,1,0\n",
            "﻿ID,LungCA,Gender,age,age_group,status,Glyphosate_use,Glyphosate_days\n",
            "1,1,1,75,4,2,0,0\n",
            "1.1,0,1,70,3,2,0,0\n",
            "1.2,0,1,72,3,2,0,0\n",
            "2,1,0,58,2,2,0,0\n",
            "2.1,0,0,55,2,2,1,160\n",
            "2.2,0,0,62,2,2,0,0\n",
            "3,1,1,65,3,2,0,0\n",
            "3.1,0,1,60,2,2,0,0\n",
            "3.2,0,1,68,3,2,0,0\n"
          ]
        }
      ]
    },
    {
      "cell_type": "code",
      "source": [
        "! cut -f 8 -d ',' /content/Team2/Smoker.csv > Cigarette_total.txt\n",
        "! head Cigarette_total.txt"
      ],
      "metadata": {
        "colab": {
          "base_uri": "https://localhost:8080/"
        },
        "id": "8icWfuKRxYAD",
        "outputId": "297b5286-1904-4f78-e48f-c8a4ee9836cd"
      },
      "execution_count": null,
      "outputs": [
        {
          "output_type": "stream",
          "name": "stdout",
          "text": [
            "cut: /content/Team2/Smoker.csv: No such file or directory\n"
          ]
        }
      ]
    },
    {
      "cell_type": "code",
      "source": [
        "! cat Smoker.csv Gephosate.csv > Lung_Disease.csv"
      ],
      "metadata": {
        "id": "IpWvF-sNyk0f"
      },
      "execution_count": null,
      "outputs": []
    },
    {
      "cell_type": "code",
      "source": [
        "import os\n",
        "from google.colab import drive\n",
        "drive.mount('/content/drive/')\n",
        "os.chdir(\"/content/drive/My Drive/FAES_BIOF309/\")"
      ],
      "metadata": {
        "colab": {
          "base_uri": "https://localhost:8080/"
        },
        "id": "Cu9arKrBmPIg",
        "outputId": "e295b6d1-e2e3-400b-d657-66c7059887d6"
      },
      "execution_count": 7,
      "outputs": [
        {
          "output_type": "stream",
          "name": "stdout",
          "text": [
            "Drive already mounted at /content/drive/; to attempt to forcibly remount, call drive.mount(\"/content/drive/\", force_remount=True).\n"
          ]
        }
      ]
    },
    {
      "cell_type": "code",
      "source": [
        "# What directory are you in?\n",
        "! pwd\n",
        "\n",
        "# What files are there?\n",
        "! ls\n",
        "\n",
        "# Check out some of the example data and see a list of how big it is, its permissions, who made it and when it was last modified. Also note the \\ preceding the space.\n",
        "! ls -lsth /content/drive/My\\ Drive/FAES_BIOF309/Project_data"
      ],
      "metadata": {
        "id": "MPyGyD4zp36T",
        "colab": {
          "base_uri": "https://localhost:8080/"
        },
        "outputId": "f8430954-69fc-4cbb-e53e-161b3a21367c"
      },
      "execution_count": 8,
      "outputs": [
        {
          "output_type": "stream",
          "name": "stdout",
          "text": [
            "/content/drive/My Drive/FAES_BIOF309\n",
            "'1- 3 Notes.gdoc'      column6_cut.txt\n",
            "'5 Python Readings'    example_data\n",
            " Cigarette_total.txt  'example_data (1)'\n",
            " column1_cut.txt      'Hyun_Chung unit_1_notebook_1 (1).ipynb'\n",
            " column2_cut.txt       Project_data\n",
            " column3_cut.txt       SaraB_unit_1_notebook_1.ipynb\n",
            " column4_cat.txt       temp\n",
            "total 1.5K\n",
            "512 -rw------- 1 root root 143 Jul 23 03:35 'TrimmedDataSet .gsheet'\n",
            "512 -rw------- 1 root root 143 Jul 22 20:09 'Dataset pesticide and lung cancer.gsheet'\n",
            "512 -rw------- 1 root root 143 Jul 22 20:09 'Data Dictionary.gdoc'\n"
          ]
        }
      ]
    },
    {
      "cell_type": "code",
      "source": [
        "#  simple print to screen command using echo\n",
        "! echo \"Hello Prof Yaklich and Prof Lee\"\n",
        "!echo  \"We are Team 2\"\n",
        "!echo \"We will present data on lung cancer and environmental toxicology\"\n"
      ],
      "metadata": {
        "id": "ZbLB068Yp9E0",
        "colab": {
          "base_uri": "https://localhost:8080/"
        },
        "outputId": "f190dc69-83bf-47cb-c923-7db36837b4df"
      },
      "execution_count": 9,
      "outputs": [
        {
          "output_type": "stream",
          "name": "stdout",
          "text": [
            "Hello Prof Yaklich and Prof Lee\n",
            "We are Team 2\n",
            "We will present data on lung cancer and environmental toxicology\n"
          ]
        }
      ]
    },
    {
      "cell_type": "code",
      "source": [
        "! mkdir /content/drive/My\\ Drive/FAES_BIOF309/temp/\n",
        "#Lets make directory to play with using mkdir."
      ],
      "metadata": {
        "colab": {
          "base_uri": "https://localhost:8080/"
        },
        "id": "TUfX-A12qCEn",
        "outputId": "fb168a50-58d9-407c-818d-e334b11042ab"
      },
      "execution_count": 10,
      "outputs": [
        {
          "output_type": "stream",
          "name": "stdout",
          "text": [
            "mkdir: cannot create directory ‘/content/drive/My Drive/FAES_BIOF309/temp/’: File exists\n"
          ]
        }
      ]
    },
    {
      "cell_type": "code",
      "source": [
        "! ls /content/drive/My\\ Drive/FAES_BIOF309/"
      ],
      "metadata": {
        "id": "L2dc8m8zqINd"
      },
      "execution_count": null,
      "outputs": []
    },
    {
      "cell_type": "code",
      "source": [
        "! ls /content/drive/My\\ Drive/FAES_BIOF309/Project_data"
      ],
      "metadata": {
        "colab": {
          "base_uri": "https://localhost:8080/"
        },
        "id": "2D9yClVEser4",
        "outputId": "4baaaee2-adc7-423e-ab5a-e770550cdb60"
      },
      "execution_count": 16,
      "outputs": [
        {
          "output_type": "stream",
          "name": "stdout",
          "text": [
            "'Data Dictionary.gdoc'\t\t\t    'TrimmedDataSet .gsheet'\n",
            "'Dataset pesticide and lung cancer.gsheet'\n"
          ]
        }
      ]
    },
    {
      "cell_type": "code",
      "source": [
        "! ls /content/drive/My\\ Drive/FAES_BIOF309/example_data/discrete/*.csv"
      ],
      "metadata": {
        "colab": {
          "base_uri": "https://localhost:8080/"
        },
        "id": "0S_OwdFNqLcD",
        "outputId": "f1b1cc5b-53e8-4c2d-efd7-62d9ab3b34ac"
      },
      "execution_count": 12,
      "outputs": [
        {
          "output_type": "stream",
          "name": "stdout",
          "text": [
            "'/content/drive/My Drive/FAES_BIOF309/example_data/discrete/example_GWAS.csv'\n",
            "'/content/drive/My Drive/FAES_BIOF309/example_data/discrete/training_addit.csv'\n",
            "'/content/drive/My Drive/FAES_BIOF309/example_data/discrete/training_pheno.csv'\n",
            "'/content/drive/My Drive/FAES_BIOF309/example_data/discrete/validation_addit.csv'\n",
            "'/content/drive/My Drive/FAES_BIOF309/example_data/discrete/validation_pheno.csv'\n"
          ]
        }
      ]
    },
    {
      "cell_type": "code",
      "source": [
        "! ls /content/drive/My\\ Drive/FAES_BIOF309/Project_data/ "
      ],
      "metadata": {
        "colab": {
          "base_uri": "https://localhost:8080/"
        },
        "id": "RieCuNXMsLPT",
        "outputId": "e6422191-2489-4fad-ca8b-cf7f0d8869bc"
      },
      "execution_count": 29,
      "outputs": [
        {
          "output_type": "stream",
          "name": "stdout",
          "text": [
            "'Data Dictionary.gdoc'\t\t\t     TrimmedDataSet.csv.gsheet\n",
            "'Dataset pesticide and lung cancer.gsheet'  'TrimmedDataSet .gsheet'\n"
          ]
        }
      ]
    },
    {
      "cell_type": "code",
      "source": [
        "! head /content/drive/My\\ Drive/FAES_BIOF309/example_data/discrete/TrimmedDataSet.csv"
      ],
      "metadata": {
        "colab": {
          "base_uri": "https://localhost:8080/"
        },
        "id": "Noh_2uqQqRgO",
        "outputId": "5f03b173-9430-4a7c-fb74-86b0fed9b034"
      },
      "execution_count": 20,
      "outputs": [
        {
          "output_type": "stream",
          "name": "stdout",
          "text": [
            "head: cannot open '/content/drive/My Drive/FAES_BIOF309/example_data/discrete/TrimmedDataSet.csv' for reading: No such file or directory\n"
          ]
        }
      ]
    },
    {
      "cell_type": "markdown",
      "source": [
        "DEMO 1: Basic linux commands in a python environment"
      ],
      "metadata": {
        "id": "TMoBv3pptM-i"
      }
    },
    {
      "cell_type": "code",
      "source": [
        "# What directory are you in?\n",
        "! pwd\n",
        "\n",
        "# What files are there?\n",
        "! ls\n",
        "\n",
        "# Check out some of the example data and see a list of how big it is, its permissions, who made it and when it was last modified. Also note the \\ preceding the space.\n",
        "! ls -lsth /content/MyDrive/FAES_BIOF309/example_data/discrete"
      ],
      "metadata": {
        "colab": {
          "base_uri": "https://localhost:8080/"
        },
        "id": "AkRamdovtNqw",
        "outputId": "70cd5d0a-0e40-473c-a9e5-9ecd8167f0f0"
      },
      "execution_count": 21,
      "outputs": [
        {
          "output_type": "stream",
          "name": "stdout",
          "text": [
            "/content/drive/MyDrive/FAES_BIOF309\n",
            "'1- 3 Notes.gdoc'      column6_cut.txt\n",
            "'5 Python Readings'    example_data\n",
            " Cigarette_total.txt  'example_data (1)'\n",
            " column1_cut.txt      'Hyun_Chung unit_1_notebook_1 (1).ipynb'\n",
            " column2_cut.txt       Project_data\n",
            " column3_cut.txt       SaraB_unit_1_notebook_1.ipynb\n",
            " column4_cat.txt       temp\n",
            "ls: cannot access '/content/MyDrive/FAES_BIOF309/example_data/discrete': No such file or directory\n"
          ]
        }
      ]
    },
    {
      "cell_type": "code",
      "source": [
        "! mkdir /content/drive/My\\ Drive/FAES_BIOF309/temp/"
      ],
      "metadata": {
        "colab": {
          "base_uri": "https://localhost:8080/"
        },
        "id": "w1Kw4udutSjP",
        "outputId": "68e533ad-3971-4a5d-932b-b691fcf1bfdc"
      },
      "execution_count": 22,
      "outputs": [
        {
          "output_type": "stream",
          "name": "stdout",
          "text": [
            "mkdir: cannot create directory ‘/content/drive/My Drive/FAES_BIOF309/temp/’: File exists\n"
          ]
        }
      ]
    },
    {
      "cell_type": "code",
      "source": [
        "! ls /content/drive/My\\ Drive/FAES_BIOF309/"
      ],
      "metadata": {
        "colab": {
          "base_uri": "https://localhost:8080/"
        },
        "id": "KY6RKctVtc5Q",
        "outputId": "19e6b326-48ad-4828-bd6e-e52a0e275cb7"
      },
      "execution_count": 23,
      "outputs": [
        {
          "output_type": "stream",
          "name": "stdout",
          "text": [
            "'1- 3 Notes.gdoc'      column6_cut.txt\n",
            "'5 Python Readings'    example_data\n",
            " Cigarette_total.txt  'example_data (1)'\n",
            " column1_cut.txt      'Hyun_Chung unit_1_notebook_1 (1).ipynb'\n",
            " column2_cut.txt       Project_data\n",
            " column3_cut.txt       SaraB_unit_1_notebook_1.ipynb\n",
            " column4_cat.txt       temp\n"
          ]
        }
      ]
    },
    {
      "cell_type": "code",
      "source": [
        "! ls /content/drive/My\\ Drive/FAES_BIOF309/example_data/discrete/*.csv"
      ],
      "metadata": {
        "colab": {
          "base_uri": "https://localhost:8080/"
        },
        "id": "CUtktQy_tigU",
        "outputId": "5c9357c3-1ca4-4bfc-dbf5-19912fda1092"
      },
      "execution_count": 24,
      "outputs": [
        {
          "output_type": "stream",
          "name": "stdout",
          "text": [
            "'/content/drive/My Drive/FAES_BIOF309/example_data/discrete/example_GWAS.csv'\n",
            "'/content/drive/My Drive/FAES_BIOF309/example_data/discrete/training_addit.csv'\n",
            "'/content/drive/My Drive/FAES_BIOF309/example_data/discrete/training_pheno.csv'\n",
            "'/content/drive/My Drive/FAES_BIOF309/example_data/discrete/validation_addit.csv'\n",
            "'/content/drive/My Drive/FAES_BIOF309/example_data/discrete/validation_pheno.csv'\n"
          ]
        }
      ]
    },
    {
      "cell_type": "code",
      "source": [
        "! head /content/drive/My\\ Drive/FAES_BIOF309/example_data/discrete/example_GWAS.csv"
      ],
      "metadata": {
        "id": "J23DbTp8tp9L"
      },
      "execution_count": null,
      "outputs": []
    },
    {
      "cell_type": "code",
      "source": [
        "! head /content/drive/My\\ Drive/FAES_BIOF309/Project_data/TrimmedDataSet.csv"
      ],
      "metadata": {
        "colab": {
          "base_uri": "https://localhost:8080/"
        },
        "id": "IZfoj7Wgtyns",
        "outputId": "23901038-fd28-4b0e-b103-e01d29e093eb"
      },
      "execution_count": 28,
      "outputs": [
        {
          "output_type": "stream",
          "name": "stdout",
          "text": [
            "head: cannot open '/content/drive/My Drive/FAES_BIOF309/Project_data/TrimmedDataSet.csv' for reading: No such file or directory\n"
          ]
        }
      ]
    },
    {
      "cell_type": "code",
      "source": [
        "! cut -f 1 -d ',' /content/drive/My\\ Drive/FAES_BIOF309/example_data/discrete/example_GWAS.csv > column1_cut.txt\n",
        "! head column1_cut.txt"
      ],
      "metadata": {
        "colab": {
          "base_uri": "https://localhost:8080/"
        },
        "id": "87n4F9LLuhSc",
        "outputId": "3119073a-317a-467b-b194-6c2eb46e2024"
      },
      "execution_count": 30,
      "outputs": [
        {
          "output_type": "stream",
          "name": "stdout",
          "text": [
            "﻿SNP\n",
            "snp1\n",
            "snp2\n",
            "snp3\n",
            "snp4\n",
            "snp5\n",
            "snp6\n",
            "snp7\n",
            "snp8\n",
            "snp9\n"
          ]
        }
      ]
    },
    {
      "cell_type": "code",
      "source": [
        "! cut -f 1 -d ',' /content/drive/My\\ Drive/FAES_BIOF309/Project_data/TrimmedDataSet.csv> column1_cut.txt\n",
        "! head column1_cut.txt"
      ],
      "metadata": {
        "colab": {
          "base_uri": "https://localhost:8080/"
        },
        "id": "-WDl2dahuj56",
        "outputId": "b0423fb0-124d-4a13-879a-682b267018de"
      },
      "execution_count": 32,
      "outputs": [
        {
          "output_type": "stream",
          "name": "stdout",
          "text": [
            "cut: '/content/drive/My Drive/FAES_BIOF309/Project_data/TrimmedDataSet.csv': No such file or directory\n"
          ]
        }
      ]
    },
    {
      "cell_type": "code",
      "source": [
        "! awk -F ',' '{print $1\" \"$7}' /content/drive/My\\ Drive/FAES_BIOF309/example_data/discrete/example_GWAS.csv"
      ],
      "metadata": {
        "colab": {
          "base_uri": "https://localhost:8080/"
        },
        "id": "GYYsOc-nuvES",
        "outputId": "70a9d6b7-f89c-43cd-ea82-cdd01d85c2df"
      },
      "execution_count": 33,
      "outputs": [
        {
          "output_type": "stream",
          "name": "stdout",
          "text": [
            "﻿SNP p\n",
            "snp1 1.05E-09\n",
            "snp2 1.57E-11\n",
            "snp3 3.41E-13\n",
            "snp4 2.12E-09\n",
            "snp5 6.26E-20\n",
            "snp6 2.61E-10\n",
            "snp7 1.47E-37\n",
            "snp8 1.77E-10\n",
            "snp9 1.52E-28\n",
            "snp10 3.61E-148\n",
            "snp11 3.96E-08\n",
            "snp12 1.15E-08\n",
            "snp13 1.45E-09\n",
            "snp14 1.66E-16\n",
            "snp15 6.19E-11\n",
            "snp16 6.08E-18\n",
            "snp17 2.76E-11\n",
            "snp18 7.87E-10\n",
            "snp19 5.12E-20\n",
            "snp20 1.29E-12\n",
            "snp21 1.40E-09\n",
            "snp22 1.29E-11\n",
            "snp23 1.01E-08\n",
            "snp24 3.20E-09\n",
            "snp25 1.69E-08\n",
            "snp26 3.80E-23\n",
            "snp27 4.19E-09\n",
            "snp28 1.72E-70\n",
            "snp29 1.59E-22\n",
            "snp30 6.10E-12\n",
            "snp31 4.47E-09\n",
            "snp32 1.11E-29\n",
            "snp33 2.50E-22\n",
            "snp34 1.38E-15\n",
            "snp35 6.84E-17\n",
            "snp36 8.87E-09\n",
            "snp37 8.04E-13\n",
            "snp38 4.55E-14\n",
            "snp39 2.54E-39\n",
            "snp40 9.98E-12\n",
            "snp41 5.01E-10\n",
            "snp42 1.22E-34\n",
            "snp43 5.94E-13\n",
            "snp44 8.09E-12\n",
            "snp45 1.36E-10\n",
            "snp46 9.82E-13\n",
            "snp47 2.06E-28\n",
            "snp48 2.00E-10\n",
            "snp49 2.87E-10\n",
            "snp50 1.17E-09\n",
            "snp51 4.97E-19\n",
            "snp52 5.82E-21\n",
            "snp53 3.89E-154\n",
            "snp54 1.13E-36\n",
            "snp55 1.79E-21\n",
            "snp56 9.98E-70\n",
            "snp57 1.57E-09\n",
            "snp58 7.16E-09\n",
            "snp59 2.52E-23\n",
            "snp60 1.84E-09\n",
            "snp61 5.62E-12\n",
            "snp62 1.62E-08\n",
            "snp63 1.63E-10\n",
            "snp64 5.25E-26\n",
            "snp65 3.99E-16\n",
            "snp66 2.72E-15\n",
            "snp67 1.16E-08\n",
            "snp68 8.72E-18\n",
            "snp69 5.06E-17\n",
            "snp70 6.58E-09\n",
            "snp71 0.1387\n",
            "snp72 0.0005581\n",
            "snp73 0.7423\n",
            "snp74 0.08657\n",
            "snp75 0.5055\n",
            "snp76 0.2882\n",
            "snp77 0.4274\n",
            "snp78 0.8662\n",
            "snp79 0.1676\n",
            "snp80 0.06372\n",
            "snp81 0.07562\n",
            "snp82 0.8764\n",
            "snp83 0.5925\n",
            "snp84 0.6176\n",
            "snp85 0.8184\n",
            "snp86 0.03021\n",
            "snp87 0.703\n",
            "snp88 0.01485\n",
            "snp89 0.02844\n",
            "snp90 0.884\n",
            "snp91 0.589\n",
            "snp92 0.04175\n",
            "snp93 0.7019\n",
            "snp94 0.02443\n",
            "snp95 0.3576\n",
            "snp96 0.08848\n",
            "snp97 0.9621\n",
            "snp98 0.742\n",
            "snp99 0.2447\n",
            "snp100 0.9405\n",
            "snp101 0.568\n",
            "snp102 0.1764\n",
            "snp103 0.01226\n",
            "snp104 0.1763\n",
            "snp105 0.9195\n",
            "snp106 0.2025\n",
            "snp107 0.9692\n",
            "snp108 0.0001082\n",
            "snp109 3.91E-07\n",
            "snp110 0.55\n",
            "snp111 0.9031\n",
            "snp112 0.1255\n",
            "snp113 0.81\n",
            "snp114 0.375\n",
            "snp115 0.317\n",
            "snp116 0.7887\n",
            "snp117 0.8859\n",
            "snp118 0.6801\n",
            "snp119 0.662\n",
            "snp120 0.2822\n",
            "snp121 0.3166\n",
            "snp122 0.6593\n",
            "snp123 0.3909\n",
            "snp124 0.1839\n",
            "snp125 0.2478\n",
            "snp126 0.1408\n",
            "snp127 0.7418\n",
            "snp128 0.998\n",
            "snp129 0.09073\n",
            "snp130 0.2205\n",
            "snp131 0.4818\n",
            "snp132 0.6191\n",
            "snp133 0.5416\n",
            "snp134 0.4759\n",
            "snp135 0.07179\n",
            "snp136 0.7335\n",
            "snp137 0.2368\n",
            "snp138 0.2585\n",
            "snp139 0.0001598\n",
            "snp140 0.2085\n",
            "snp141 0.245\n",
            "snp142 0.07164\n",
            "snp143 0.2263\n",
            "snp144 0.8877\n",
            "snp145 0.003029\n",
            "snp146 0.4188\n",
            "snp147 0.4442\n",
            "snp148 0.01693\n",
            "snp149 0.9058\n",
            "snp150 0.555\n",
            "snp151 0.5487\n",
            "snp152 0.03981\n",
            "snp153 0.835\n",
            "snp154 0.25\n",
            "snp155 0.0002362\n",
            "snp156 0.5967\n",
            "snp157 0.9045\n",
            "snp158 0.8831\n",
            "snp159 0.0126\n",
            "snp160 0.4086\n",
            "snp161 0.4329\n",
            "snp162 0.965\n",
            "snp163 0.927\n",
            "snp164 0.2834\n",
            "snp165 0.7563\n",
            "snp166 0.912\n",
            "snp167 0.8055\n",
            "snp168 0.04984\n",
            "snp169 0.09017\n",
            "snp170 0.5987\n",
            "snp171 4.42E-10\n",
            "snp172 2.66E-11\n",
            "snp173 0.001891\n",
            "snp174 0.9039\n",
            "snp175 0.7619\n",
            "snp176 0.3637\n",
            "snp177 0.0921\n",
            "snp178 0.6981\n",
            "snp179 0.56\n",
            "snp180 0.8163\n",
            "snp181 0.08691\n",
            "snp182 0.5262\n",
            "snp183 0.1166\n",
            "snp184 0.7967\n",
            "snp185 0.06919\n",
            "snp186 0.7452\n",
            "snp187 0.9232\n",
            "snp188 0.8168\n",
            "snp189 0.2849\n",
            "snp190 0.641\n",
            "snp191 0.7509\n",
            "snp192 0.003237\n",
            "snp193 0.4615\n",
            "snp194 0.2937\n",
            "snp195 0.6637\n",
            "snp196 0.5111\n",
            "snp197 0.4651\n",
            "snp198 0.731\n",
            "snp199 0.765\n",
            "snp200 0.679\n",
            "snp201 0.2918\n",
            "snp202 0.9577\n",
            "snp203 0.7745\n",
            "snp204 0.9455\n",
            "snp205 0.2855\n",
            "snp206 0.03379\n",
            "snp207 0.7443\n",
            "snp208 0.1287\n",
            "snp209 8.70E-05\n",
            "snp210 0.8234\n",
            "snp211 0.9095\n",
            "snp212 0.05783\n",
            "snp213 0.09421\n",
            "snp214 7.71E-05\n",
            "snp215 0.2225\n",
            "snp216 5.15E-06\n",
            "snp217 0.5468\n",
            "snp218 0.8063\n",
            "snp219 0.9528\n",
            "snp220 0.6201\n",
            "snp221 0.7173\n",
            "snp222 0.412\n",
            "snp223 0.2911\n",
            "snp224 0.2781\n",
            "snp225 0.4576\n",
            "snp226 0.7938\n",
            "snp227 0.9492\n",
            "snp228 0.02801\n",
            "snp229 0.4978\n",
            "snp230 0.3525\n",
            "snp231 0.05327\n",
            "snp232 0.9709\n",
            "snp233 0.0188\n",
            "snp234 0.9005\n",
            "snp235 0.4486\n",
            "snp236 0.8859\n",
            "snp237 0.7554\n",
            "snp238 0.3727\n",
            "snp239 0.3385\n",
            "snp240 0.4462\n",
            "snp241 0.5413\n",
            "snp242 0.3101\n",
            "snp243 0.002542\n",
            "snp244 0.4257\n",
            "snp245 0.5456\n",
            "snp246 0.2716\n",
            "snp247 0.1903\n",
            "snp248 0.1975\n",
            "snp249 0.159\n",
            "snp250 0.5069\n",
            "snp251 0.3944\n",
            "snp252 0.1494\n",
            "snp253 0.4312\n",
            "snp254 0.003475\n",
            "snp255 0.5266\n",
            "snp256 0.6635\n",
            "snp257 0.4703\n",
            "snp258 0.3468\n",
            "snp259 0.06474\n",
            "snp260 0.9676\n",
            "snp261 0.5134\n",
            "snp262 0.04481\n",
            "snp263 0.7195\n",
            "snp264 0.7111\n",
            "snp265 0.483\n",
            "snp266 0.04207\n",
            "snp267 0.1561\n",
            "snp268 0.1066\n",
            "snp269 0.01294\n",
            "snp270 0.7586\n",
            "snp271 0.7733\n",
            "snp272 0.005558\n",
            "snp273 0.3964\n",
            "snp274 0.3613\n",
            "snp275 0.935\n",
            "snp276 0.08785\n",
            "snp277 0.1266\n",
            "snp278 0.772\n",
            "snp279 0.666\n",
            "snp280 0.3155\n",
            "snp281 0.2962\n",
            "snp282 0.4993\n",
            "snp283 0.4344\n",
            "snp284 0.4028\n",
            "snp285 0.4116\n",
            "snp286 0.00845\n",
            "snp287 0.08196\n",
            "snp288 0.2914\n",
            "snp289 0.01982\n",
            "snp290 0.3206\n",
            "snp291 0.9981\n",
            "snp292 0.2416\n",
            "snp293 0.192\n",
            "snp294 0.9141\n",
            "snp295 0.7947\n",
            "snp296 0.6634\n",
            "snp297 0.4219\n",
            "snp298 0.5836\n",
            "snp299 0.1185\n",
            "snp300 0.2145\n",
            "snp301 8.19E-06\n",
            "snp302 0.2058\n",
            "snp303 0.03953\n",
            "snp304 0.7934\n",
            "snp305 0.9207\n",
            "snp306 0.8254\n",
            "snp307 0.1404\n",
            "snp308 0.7978\n",
            "snp309 0.7627\n",
            "snp310 0.4359\n",
            "snp311 0.9961\n",
            "snp312 0.05685\n",
            "snp313 0.0001328\n",
            "snp314 0.001214\n",
            "snp315 6.03E-09\n",
            "snp316 0.7984\n",
            "snp317 0.552\n",
            "snp318 0.6157\n",
            "snp319 0.4489\n",
            "snp320 0.5195\n",
            "snp321 0.5455\n",
            "snp322 0.5482\n",
            "snp323 0.7783\n",
            "snp324 0.5672\n",
            "snp325 0.7242\n",
            "snp326 0.6339\n",
            "snp327 0.05725\n",
            "snp328 0.6461\n",
            "snp329 0.01546\n",
            "snp330 0.04379\n",
            "snp331 0.7492\n",
            "snp332 0.8567\n",
            "snp333 0.6727\n",
            "snp334 0.1627\n",
            "snp335 0.4308\n",
            "snp336 0.2653\n",
            "snp337 0.8545\n",
            "snp338 0.4914\n",
            "snp339 0.02966\n",
            "snp340 0.04288\n",
            "snp341 0.2781\n",
            "snp342 0.1305\n",
            "snp343 0.007906\n",
            "snp344 0.5281\n",
            "snp345 0.4857\n",
            "snp346 0.1861\n",
            "snp347 0.8577\n",
            "snp348 6.09E-05\n",
            "snp349 0.699\n",
            "snp350 0.201\n",
            "snp351 0.03459\n",
            "snp352 0.5947\n",
            "snp353 0.4806\n",
            "snp354 0.3393\n",
            "snp355 0.2741\n",
            "snp356 0.8644\n",
            "snp357 0.1981\n",
            "snp358 0.06216\n",
            "snp359 0.1647\n",
            "snp360 0.678\n",
            "snp361 0.2072\n",
            "snp362 0.2477\n",
            "snp363 0.09517\n",
            "snp364 0.2734\n",
            "snp365 0.7026\n",
            "snp366 0.04629\n",
            "snp367 0.7003\n",
            "snp368 0.939\n",
            "snp369 0.7523\n",
            "snp370 0.01985\n",
            "snp371 0.7016\n",
            "snp372 0.1333\n",
            "snp373 0.01037\n",
            "snp374 0.7744\n",
            "snp375 0.8129\n",
            "snp376 0.0001044\n",
            "snp377 0.2093\n",
            "snp378 0.7175\n",
            "snp379 0.008365\n",
            "snp380 0.1477\n",
            "snp381 0.09036\n",
            "snp382 0.7554\n",
            "snp383 0.2885\n",
            "snp384 0.5613\n",
            "snp385 0.8536\n",
            "snp386 0.1022\n",
            "snp387 0.4883\n",
            "snp388 0.7156\n",
            "snp389 0.3797\n",
            "snp390 0.2882\n",
            "snp391 0.9644\n",
            "snp392 0.1266\n",
            "snp393 0.08927\n",
            "snp394 0.3736\n",
            "snp395 0.2225\n",
            "snp396 0.7335\n",
            "snp397 0.3741\n",
            "snp398 0.5086\n",
            "snp399 0.06581\n",
            "snp400 0.1009\n",
            "snp401 0.01313\n",
            "snp402 0.2892\n",
            "snp403 0.1324\n",
            "snp404 0.2707\n",
            "snp405 0.9063\n",
            "snp406 0.0001554\n",
            "snp407 0.3607\n",
            "snp408 0.07087\n",
            "snp409 0.4406\n",
            "snp410 0.2052\n",
            "snp411 0.2954\n",
            "snp412 0.6999\n",
            "snp413 0.4831\n",
            "snp414 0.9077\n",
            "snp415 0.5391\n",
            "snp416 0.1097\n",
            "snp417 0.4649\n",
            "snp418 0.5645\n",
            "snp419 0.4791\n",
            "snp420 0.7918\n",
            "snp421 0.4781\n",
            "snp422 0.4972\n",
            "snp423 0.7116\n",
            "snp424 0.8955\n",
            "snp425 0.6445\n",
            "snp426 0.6645\n",
            "snp427 0.5664\n",
            "snp428 0.9821\n",
            "snp429 0.0118\n",
            "snp430 0.2035\n",
            "snp431 0.9187\n",
            "snp432 1.50E-05\n",
            "snp433 0.6833\n",
            "snp434 0.8836\n",
            "snp435 0.5023\n",
            "snp436 0.7049\n",
            "snp437 0.9879\n",
            "snp438 0.7862\n",
            "snp439 0.2497\n",
            "snp440 0.004413\n",
            "snp441 7.33E-09\n",
            "snp442 0.8698\n",
            "snp443 0.5146\n",
            "snp444 0.6609\n",
            "snp445 0.3329\n",
            "snp446 0.0395\n",
            "snp447 0.0565\n",
            "snp448 0.3611\n",
            "snp449 0.1139\n",
            "snp450 0.7272\n",
            "snp451 0.4111\n",
            "snp452 0.02001\n",
            "snp453 0.9888\n",
            "snp454 0.7096\n",
            "snp455 0.8147\n",
            "snp456 0.2415\n",
            "snp457 0.8473\n",
            "snp458 0.4435\n",
            "snp459 0.2587\n",
            "snp460 0.2078\n",
            "snp461 0.01886\n",
            "snp462 0.7845\n",
            "snp463 0.01467\n",
            "snp464 0.8198\n",
            "snp465 0.5869\n",
            "snp466 0.5689\n",
            "snp467 0.213\n",
            "snp468 0.7022\n",
            "snp469 0.2686\n",
            "snp470 0.4535\n",
            "snp471 0.9081\n",
            "snp472 0.0801\n",
            "snp473 0.6605\n",
            "snp474 0.0484\n",
            "snp475 0.7014\n",
            "snp476 0.9395\n",
            "snp477 0.1808\n",
            "snp478 0.4136\n",
            "snp479 0.6998\n",
            "snp480 0.39\n",
            "snp481 0.000965\n",
            "snp482 0.3593\n",
            "snp483 0.3839\n",
            "snp484 0.2859\n",
            "snp485 0.5785\n",
            "snp486 0.7631\n",
            "snp487 0.5308\n",
            "snp488 0.4761\n",
            "snp489 0.2861\n",
            "snp490 0.005128\n",
            "snp491 0.4376\n",
            "snp492 0.4936\n",
            "snp493 0.5386\n",
            "snp494 0.599\n",
            "snp495 0.1016\n",
            "snp496 0.8152\n",
            "snp497 0.333\n",
            "snp498 0.89\n",
            "snp499 0.139\n",
            "snp500 0.7627\n"
          ]
        }
      ]
    },
    {
      "cell_type": "code",
      "source": [
        "! awk -F ',' '{print $1\" \"$7}' /content/drive/My\\ Drive/FAES_BIOF309/TrimmedDataSet.csv"
      ],
      "metadata": {
        "colab": {
          "base_uri": "https://localhost:8080/"
        },
        "id": "thFPcRayvCi5",
        "outputId": "4d2c01e1-32db-45ed-b055-8b6f9acf9892"
      },
      "execution_count": 35,
      "outputs": [
        {
          "output_type": "stream",
          "name": "stdout",
          "text": [
            "awk: cannot open /content/drive/My Drive/FAES_BIOF309/TrimmedDataSet.csv (No such file or directory)\n"
          ]
        }
      ]
    },
    {
      "cell_type": "code",
      "source": [
        " "
      ],
      "metadata": {
        "colab": {
          "base_uri": "https://localhost:8080/"
        },
        "id": "EPtM_dDsvaBm",
        "outputId": "53031118-01b1-4c0c-ccf0-1c80b0cde7a7"
      },
      "execution_count": 36,
      "outputs": [
        {
          "output_type": "stream",
          "name": "stdout",
          "text": [
            "snp1,A,G,0.85,-0.08,0.013,1.05E-09,100000\n",
            "snp2,A,G,0.22,0.08,0.0113,1.57E-11,100000\n",
            "snp3,T,C,0.69,0.07,0.0101,3.41E-13,100000\n",
            "snp4,A,G,0.88,0.09,0.0145,2.12E-09,100000\n",
            "snp5,T,G,0.21,0.11,0.0117,6.26E-20,100000\n",
            "snp6,A,C,0.41,-0.06,0.0102,2.61E-10,100000\n",
            "snp7,T,G,0.36,0.15,0.0115,1.47E-37,100000\n",
            "snp8,A,G,0.49,0.06,0.0094,1.77E-10,100000\n",
            "snp9,T,C,0.14,0.14,0.013,1.52E-28,100000\n",
            "snp10,A,G,0,2.43,0.0937,3.61E-148,100000\n",
            "snp11,T,C,0.4,-0.05,0.0098,3.96E-08,100000\n",
            "snp12,T,C,0.74,0.06,0.0108,1.15E-08,100000\n",
            "snp13,T,C,0.23,0.07,0.0112,1.45E-09,100000\n",
            "snp14,T,C,0.32,-0.08,0.0102,1.66E-16,100000\n",
            "snp15,T,G,0.44,0.06,0.0093,6.19E-11,100000\n",
            "snp16,T,C,0.14,-0.12,0.0137,6.08E-18,100000\n",
            "snp17,A,T,0.45,0.06,0.0095,2.76E-11,100000\n",
            "snp18,C,G,0.31,-0.07,0.0106,7.87E-10,100000\n",
            "snp19,A,G,0.64,0.09,0.0099,5.12E-20,100000\n",
            "snp20,A,C,0.43,0.07,0.0094,1.29E-12,100000\n",
            "snp21,T,C,0.73,0.06,0.0106,1.40E-09,100000\n",
            "snp22,A,G,0.61,-0.07,0.0105,1.29E-11,100000\n",
            "snp23,A,C,0.65,-0.06,0.0099,1.01E-08,100000\n",
            "snp24,A,T,0.83,0.08,0.0128,3.20E-09,100000\n",
            "snp25,T,G,0.5,0.05,0.0094,1.69E-08,100000\n",
            "snp26,A,G,0.68,-0.1,0.0099,3.80E-23,100000\n",
            "snp27,C,G,0.01,0.28,0.0478,4.19E-09,100000\n",
            "snp28,A,G,0.02,0.61,0.0342,1.72E-70,100000\n",
            "snp29,T,C,1,-0.75,0.0765,1.59E-22,100000\n",
            "snp30,C,G,0.5,0.07,0.0094,6.10E-12,100000\n",
            "snp31,T,C,0.19,-0.07,0.012,4.47E-09,100000\n",
            "snp32,T,C,0.57,0.11,0.0094,1.11E-29,100000\n",
            "snp33,A,G,0.14,0.13,0.0135,2.50E-22,100000\n",
            "snp34,T,C,0.72,0.08,0.0104,1.38E-15,100000\n",
            "snp35,T,C,0.14,0.11,0.0133,6.84E-17,100000\n",
            "snp36,T,C,0.13,0.08,0.0139,8.87E-09,100000\n",
            "snp37,A,T,0.34,0.07,0.0098,8.04E-13,100000\n",
            "snp38,A,G,0.72,0.08,0.0107,4.55E-14,100000\n",
            "snp39,T,C,0.13,0.18,0.0137,2.54E-39,100000\n",
            "snp40,T,C,0.17,0.09,0.0126,9.98E-12,100000\n",
            "snp41,A,G,0.67,-0.06,0.0099,5.01E-10,100000\n",
            "snp42,T,G,0.81,0.15,0.0121,1.22E-34,100000\n",
            "snp43,A,C,0.96,-0.17,0.0235,5.94E-13,100000\n",
            "snp44,T,C,0.38,0.07,0.0096,8.09E-12,100000\n",
            "snp45,T,G,0.65,0.06,0.0099,1.36E-10,100000\n",
            "snp46,T,C,0.17,0.09,0.0123,9.82E-13,100000\n",
            "snp47,A,G,0.55,0.1,0.0094,2.06E-28,100000\n",
            "snp48,A,G,0.33,-0.06,0.01,2.00E-10,100000\n",
            "snp49,A,T,0.16,-0.08,0.0133,2.87E-10,100000\n",
            "snp50,C,G,0.69,0.06,0.0102,1.17E-09,100000\n",
            "snp51,A,G,0.71,-0.09,0.0102,4.97E-19,100000\n",
            "snp52,T,C,0.36,-0.09,0.0097,5.82E-21,100000\n",
            "snp53,A,G,0.63,-0.28,0.0105,3.89E-154,100000\n",
            "snp54,A,G,0.68,-0.16,0.0124,1.13E-36,100000\n",
            "snp55,T,C,0.1,-0.17,0.0182,1.79E-21,100000\n",
            "snp56,T,C,0.81,-0.21,0.012,9.98E-70,100000\n",
            "snp57,C,G,0.7,0.06,0.0103,1.57E-09,100000\n",
            "snp58,A,C,0.1,-0.09,0.0158,7.16E-09,100000\n",
            "snp59,A,G,0.9,-0.16,0.0156,2.52E-23,100000\n",
            "snp60,A,G,0.8,0.07,0.0119,1.84E-09,100000\n",
            "snp61,A,G,0.21,0.08,0.0121,5.62E-12,100000\n",
            "snp62,T,C,0.25,-0.06,0.0112,1.62E-08,100000\n",
            "snp63,T,C,0.28,0.07,0.0103,1.63E-10,100000\n",
            "snp64,A,C,0.59,0.1,0.0096,5.25E-26,100000\n",
            "snp65,A,C,0.74,0.09,0.0114,3.99E-16,100000\n",
            "snp66,T,G,0.27,-0.09,0.0108,2.72E-15,100000\n",
            "snp67,T,C,0.36,0.06,0.0098,1.16E-08,100000\n",
            "snp68,T,G,0.34,-0.09,0.01,8.72E-18,100000\n",
            "snp69,A,G,0.77,-0.09,0.011,5.06E-17,100000\n",
            "snp70,T,C,0.73,-0.06,0.0106,6.58E-09,100000\n",
            "snp109,T,G,0.84,-0.06,0.0127,3.91E-07,100000\n",
            "snp171,A,G,0.92,-0.1,0.0168,4.42E-10,100000\n",
            "snp172,A,T,0.87,0.1,0.0154,2.66E-11,100000\n",
            "snp209,T,C,0.55,-0.04,0.0094,8.70E-05,100000\n",
            "snp214,C,G,0.56,-0.04,0.0099,7.71E-05,100000\n",
            "snp216,T,C,0.08,0.08,0.0177,5.15E-06,100000\n",
            "snp301,T,C,0.95,-0.11,0.0243,8.19E-06,100000\n",
            "snp315,T,C,0.9,0.09,0.016,6.03E-09,100000\n",
            "snp348,T,C,0.07,0.08,0.02,6.09E-05,100000\n",
            "snp432,A,G,0.61,0.04,0.0096,1.50E-05,100000\n",
            "snp441,T,C,0.17,0.07,0.0125,7.33E-09,100000\n"
          ]
        }
      ]
    },
    {
      "cell_type": "code",
      "source": [
        "# Remove any variant in the GWAS file that isn't in scientific notation by filtering out lines that do not contain \"E-\".\n",
        "! grep \"E-\" /content/drive/My\\ Drive/FAES_BIOF309/TrimmedDataSet.csv "
      ],
      "metadata": {
        "colab": {
          "base_uri": "https://localhost:8080/"
        },
        "id": "zLnlEdI3xMUZ",
        "outputId": "36716e3a-be1e-49d4-f082-2df08da74019"
      },
      "execution_count": 37,
      "outputs": [
        {
          "output_type": "stream",
          "name": "stdout",
          "text": [
            "grep: /content/drive/My Drive/FAES_BIOF309/TrimmedDataSet.csv: No such file or directory\n"
          ]
        }
      ]
    },
    {
      "cell_type": "code",
      "source": [
        "! sort --field-separator=',' -k 7,7 /content/drive/My\\ Drive/FAES_BIOF309/TrimmedDataSetforTeamProject.csv | head"
      ],
      "metadata": {
        "colab": {
          "base_uri": "https://localhost:8080/"
        },
        "id": "_QEJlWqMxSt8",
        "outputId": "5a3b6a5c-3282-4117-940e-eaaca9d94887"
      },
      "execution_count": 40,
      "outputs": [
        {
          "output_type": "stream",
          "name": "stdout",
          "text": [
            "sort: cannot read: '/content/drive/My Drive/FAES_BIOF309/TrimmedDataSetforTeamProject.csv': No such file or directory\n"
          ]
        }
      ]
    },
    {
      "cell_type": "code",
      "source": [
        ""
      ],
      "metadata": {
        "id": "uJmll50txgpH"
      },
      "execution_count": null,
      "outputs": []
    },
    {
      "cell_type": "markdown",
      "source": [
        "# #2 Hyun (indents and print string expressions) ***\n",
        "\n",
        " \n",
        "\n"
      ],
      "metadata": {
        "id": "id7zBVzpai41"
      }
    },
    {
      "cell_type": "markdown",
      "source": [
        "Script for Cynthia\n",
        "In Week 2, we learned using string expressions. \n"
      ],
      "metadata": {
        "id": "CzWpszw2F5bK"
      }
    },
    {
      "cell_type": "code",
      "source": [
        "#2 Hyun\n",
        "\n",
        "#data mount\n",
        "\n",
        "import os\n",
        "from google.colab import drive\n",
        "drive.mount('/content/drive/')\n",
        "os.chdir(\"/content/drive/My Drive/FAES_BIOF309\")\n",
        "\n",
        "print(\"Hello class! Let's examine data on lung cancer and pesticides\")  \n",
        "\n",
        "# Brackets\n",
        "print (\"There are variety of factors leading to cancer\")\n",
        "\n",
        "causes = ['genetics',\n",
        "          'SES',\n",
        "          'carcinogens']\n",
        "print(causes)\n",
        "\n",
        "\"\"\"Python is awesome for programming used in cancer research\"\"\"\n",
        " "
      ],
      "metadata": {
        "id": "s-sxCM02JTvr",
        "colab": {
          "base_uri": "https://localhost:8080/",
          "height": 177
        },
        "outputId": "1397c017-da9d-4106-d016-00c1a948f552"
      },
      "execution_count": null,
      "outputs": [
        {
          "output_type": "stream",
          "name": "stdout",
          "text": [
            "Drive already mounted at /content/drive/; to attempt to forcibly remount, call drive.mount(\"/content/drive/\", force_remount=True).\n",
            "Hello class! Let's examine data on lung cancer and pesticides\n",
            "There are variety of factors leading to cancer\n",
            "['genetics', 'SES', 'carcinogens']\n",
            "genetics\n",
            "SES\n",
            "carcinogens\n"
          ]
        },
        {
          "output_type": "execute_result",
          "data": {
            "text/plain": [
              "'Python is awesome for programming used in cancer research'"
            ],
            "application/vnd.google.colaboratory.intrinsic+json": {
              "type": "string"
            }
          },
          "metadata": {},
          "execution_count": 199
        }
      ]
    },
    {
      "cell_type": "code",
      "source": [
        "#4. An intro to multiple indents.\n",
        "for i in ['poor genetics', 'smoking', 'poverty']:\n",
        "  for j in ['raises your cancer risk', 'contributes to your health', 'bad']:\n",
        "    print(i + \" is \" + j)"
      ],
      "metadata": {
        "id": "zm3518jwE7Pr",
        "colab": {
          "base_uri": "https://localhost:8080/"
        },
        "outputId": "bd74a155-6c5a-4554-e13a-57072b8693f2"
      },
      "execution_count": null,
      "outputs": [
        {
          "output_type": "stream",
          "name": "stdout",
          "text": [
            "poor genetics is raises your cancer risk\n",
            "poor genetics is contributes to your health\n",
            "poor genetics is bad\n",
            "smoking is raises your cancer risk\n",
            "smoking is contributes to your health\n",
            "smoking is bad\n",
            "poverty is raises your cancer risk\n",
            "poverty is contributes to your health\n",
            "poverty is bad\n"
          ]
        }
      ]
    },
    {
      "cell_type": "code",
      "source": [
        "# looping through lists.\n",
        "\n",
        "print(\"What are the contributing factors to cancer?\")\n",
        "for i in causes:\n",
        "  print(i)"
      ],
      "metadata": {
        "colab": {
          "base_uri": "https://localhost:8080/"
        },
        "id": "vXm15z4KHQ_Q",
        "outputId": "14c656a4-a3b4-4ae5-dcb1-12a9b12ec7d4"
      },
      "execution_count": null,
      "outputs": [
        {
          "output_type": "stream",
          "name": "stdout",
          "text": [
            "What are the contributing factors to cancer?\n",
            "genetics\n",
            "SES\n",
            "carcinogens\n"
          ]
        }
      ]
    },
    {
      "cell_type": "markdown",
      "source": [
        "2b: Python semantics."
      ],
      "metadata": {
        "id": "2481JOiU4Yc5"
      }
    },
    {
      "cell_type": "code",
      "source": [
        "#Explaining the data abbreviations with string expressions\n",
        "# LungCA\n",
        "print (\"The column LungCA examines Lung cancer status of responders: \")\n",
        "a = \"0 refer to control without lung cancer\"\n",
        "b= \"1 refer to case with lung cancer \"\n",
        "print(a)\n",
        "print(b)"
      ],
      "metadata": {
        "colab": {
          "base_uri": "https://localhost:8080/"
        },
        "id": "N2nulJll4ZEI",
        "outputId": "d23802df-86aa-4967-f32d-d24c5a2e4052"
      },
      "execution_count": null,
      "outputs": [
        {
          "output_type": "stream",
          "name": "stdout",
          "text": [
            "The column LungCA examines Lung cancer status of responders: \n",
            "0 refer to control without lung cancer\n",
            "1 refer to case with lung cancer \n"
          ]
        }
      ]
    },
    {
      "cell_type": "code",
      "source": [
        "print (\"How does Air_Pollution_ exposure raise risk of lung cancer development?\")\n",
        "for i in range(0,2):\n",
        "    print(i)\n",
        "\n",
        "print (\"0 refer to responders who did not exposure to air pollution.\")\n",
        "print (\"1 refer to responders who exposure to air pollution.\")\n"
      ],
      "metadata": {
        "colab": {
          "base_uri": "https://localhost:8080/"
        },
        "id": "sf5ciBtPL7fG",
        "outputId": "c65a10cc-0d4c-48c3-fe51-ad74669e2bb4"
      },
      "execution_count": null,
      "outputs": [
        {
          "output_type": "stream",
          "name": "stdout",
          "text": [
            "How does Air_Pollution_ exposure raise risk of lung cancer development?\n",
            "0\n",
            "1\n",
            "0 refer to responders who did not exposure to air pollution.\n",
            "1 refer to responders who exposure to air pollution.\n"
          ]
        }
      ]
    },
    {
      "cell_type": "markdown",
      "source": [
        ""
      ],
      "metadata": {
        "id": "pWLfIz-ROgNK"
      }
    },
    {
      "cell_type": "code",
      "source": [
        "# 8. Combine strings and paste.\n",
        "a = \"Variable: Air Pollution explained \"\n",
        "b = \"0 refer to responders who did not exposure to air pollution.  \"\n",
        "c = \"1 refer to responders who exposure to air pollution.\"\n",
        "\n",
        "print (a  + b + c)"
      ],
      "metadata": {
        "colab": {
          "base_uri": "https://localhost:8080/"
        },
        "id": "uVHZdKLiuRjU",
        "outputId": "27d58620-9344-437c-88c8-b293ec0f2710"
      },
      "execution_count": null,
      "outputs": [
        {
          "output_type": "stream",
          "name": "stdout",
          "text": [
            "Variable: Air Pollution explained 0 refer to responders who did not exposure to air pollution.  1 refer to responders who exposure to air pollution.\n"
          ]
        }
      ]
    },
    {
      "cell_type": "code",
      "source": [
        "print (\"Responders’ exposure to air pollution from various sources, e.g. working in factory with air pollution (asbestos, diesel engine exhaust, silica, wood dust, painting and welding exposure), \")\n",
        "\n",
        "for i in ['asbestos', 'diesel', 'lead paint']:\n",
        "  for j in ['bad', 'carcinogenic', 'unpleasant']:\n",
        "    print(i + \" is \" + j)"
      ],
      "metadata": {
        "colab": {
          "base_uri": "https://localhost:8080/"
        },
        "id": "6ueHG2JIOlxs",
        "outputId": "c0a823d1-05f9-4ec2-d599-cba165645fd5"
      },
      "execution_count": null,
      "outputs": [
        {
          "output_type": "stream",
          "name": "stdout",
          "text": [
            "Responders’ exposure to air pollution from various sources, e.g. working in factory with air pollution (asbestos, diesel engine exhaust, silica, wood dust, painting and welding exposure), \n",
            "asbestos is bad\n",
            "asbestos is carcinogenic\n",
            "asbestos is unpleasant\n",
            "diesel is bad\n",
            "diesel is carcinogenic\n",
            "diesel is unpleasant\n",
            "lead paint is bad\n",
            "lead paint is carcinogenic\n",
            "lead paint is unpleasant\n"
          ]
        }
      ]
    },
    {
      "cell_type": "markdown",
      "source": [
        ""
      ],
      "metadata": {
        "id": "peqdTt2oOlhg"
      }
    },
    {
      "cell_type": "markdown",
      "source": [
        "#3 Santiago"
      ],
      "metadata": {
        "id": "J4MXpum0Zo0u"
      }
    },
    {
      "cell_type": "code",
      "source": [
        "#3 Santiago"
      ],
      "metadata": {
        "id": "YdnXwY3AJUnb"
      },
      "execution_count": null,
      "outputs": []
    },
    {
      "cell_type": "markdown",
      "source": [
        "#4 Santiago"
      ],
      "metadata": {
        "id": "MttjThXS0-sX"
      }
    },
    {
      "cell_type": "code",
      "source": [
        "#4 Santiago"
      ],
      "metadata": {
        "id": "Ha68xOe8JVPs"
      },
      "execution_count": null,
      "outputs": []
    },
    {
      "cell_type": "code",
      "source": [
        "# Hyun DEMO 4c: Modules and Packages"
      ],
      "metadata": {
        "id": "nmd52EHOxles"
      },
      "execution_count": null,
      "outputs": []
    },
    {
      "cell_type": "markdown",
      "source": [
        "Hyun 4a 4a: Functions"
      ],
      "metadata": {
        "id": "4tO2J30I1Ibk"
      }
    },
    {
      "cell_type": "code",
      "source": [
        ""
      ],
      "metadata": {
        "id": "XCOnjE9H1KBV"
      },
      "execution_count": null,
      "outputs": []
    },
    {
      "cell_type": "markdown",
      "source": [
        "Hyun 4b: String manipulation and regular expressions."
      ],
      "metadata": {
        "id": "_apQcJT80Vta"
      }
    },
    {
      "cell_type": "code",
      "source": [
        ""
      ],
      "metadata": {
        "id": "qApU2-GO0Yaw"
      },
      "execution_count": null,
      "outputs": []
    },
    {
      "cell_type": "code",
      "source": [
        ""
      ],
      "metadata": {
        "id": "G_GUaeFk0Y5e"
      },
      "execution_count": null,
      "outputs": []
    },
    {
      "cell_type": "markdown",
      "source": [
        "# Hyun DEMO 4c: Modules and Packages"
      ],
      "metadata": {
        "id": "xLzVQTCSyKcf"
      }
    },
    {
      "cell_type": "code",
      "source": [
        "import os\n",
        "from google.colab import drive\n",
        "drive.mount('/content/drive/')\n",
        "os.chdir(\"/content/drive/My Drive/FAES_BIOF309/\")"
      ],
      "metadata": {
        "colab": {
          "base_uri": "https://localhost:8080/"
        },
        "id": "Gup4yfvqx_n2",
        "outputId": "6932d6b1-c749-4ee8-dca4-fcc76f47bb44"
      },
      "execution_count": 41,
      "outputs": [
        {
          "output_type": "stream",
          "name": "stdout",
          "text": [
            "Drive already mounted at /content/drive/; to attempt to forcibly remount, call drive.mount(\"/content/drive/\", force_remount=True).\n"
          ]
        }
      ]
    },
    {
      "cell_type": "code",
      "source": [
        "import os\n",
        "file = open(\"testfileHyun.txt\", \"x\") "
      ],
      "metadata": {
        "id": "Ih5e80a-yCai"
      },
      "execution_count": 42,
      "outputs": []
    },
    {
      "cell_type": "code",
      "source": [
        "# 1. Handling files\n",
        "file = open(\"testfileHyun.txt\", \"w\") \n",
        " \n",
        "file.write(\"Name:Team2\\n\" + \"Topic:cancer\\n\" + \"Factors:lifestyle\\n\" + \"Status:Married, Single, Separated\\n\" + \"Chemical Exposures:Glycosophate\\n\") \n",
        " "
      ],
      "metadata": {
        "colab": {
          "base_uri": "https://localhost:8080/"
        },
        "id": "x2SsHR4dyOLz",
        "outputId": "2fe22faa-5d6a-4286-b01b-ebb7faedcb37"
      },
      "execution_count": 43,
      "outputs": [
        {
          "output_type": "execute_result",
          "data": {
            "text/plain": [
              "107"
            ]
          },
          "metadata": {},
          "execution_count": 43
        }
      ]
    },
    {
      "cell_type": "code",
      "source": [
        "! head testfileHyun.txt"
      ],
      "metadata": {
        "id": "vQiRW0lDzBzV"
      },
      "execution_count": 46,
      "outputs": []
    },
    {
      "cell_type": "code",
      "source": [
        "file = open(\"testfileHyun.txt\", \"a\")           # Opens the file in order to add text to it\n",
        "file.write(\"This text file needs to be cleaned!\")"
      ],
      "metadata": {
        "colab": {
          "base_uri": "https://localhost:8080/"
        },
        "id": "4vTSU8BgzJct",
        "outputId": "0def9f91-f6d6-451b-9171-f399a39f6a8d"
      },
      "execution_count": 47,
      "outputs": [
        {
          "output_type": "execute_result",
          "data": {
            "text/plain": [
              "35"
            ]
          },
          "metadata": {},
          "execution_count": 47
        }
      ]
    },
    {
      "cell_type": "code",
      "source": [
        "! head testfileHyun.txt"
      ],
      "metadata": {
        "colab": {
          "base_uri": "https://localhost:8080/"
        },
        "id": "u4zdj7y7zPrq",
        "outputId": "02eff7d8-b799-4215-c0ef-740ae012a08d"
      },
      "execution_count": 49,
      "outputs": [
        {
          "output_type": "stream",
          "name": "stdout",
          "text": [
            "Name:Hyun\n",
            "Topic:cancer\n",
            "Factors:lifestyle\n",
            "Status:Married, Single, Separated\n",
            "Chemical Exposures:Glycosophate\n"
          ]
        }
      ]
    },
    {
      "cell_type": "code",
      "source": [
        "! pip install pandas # Install pandas using PIP.\n",
        "! pip install --upgrade pandas # Upgrade pandas using PIP."
      ],
      "metadata": {
        "colab": {
          "base_uri": "https://localhost:8080/"
        },
        "id": "3fBoMt9kzZis",
        "outputId": "7903b0ca-d996-44c2-a459-90c74b84876d"
      },
      "execution_count": 50,
      "outputs": [
        {
          "output_type": "stream",
          "name": "stdout",
          "text": [
            "Looking in indexes: https://pypi.org/simple, https://us-python.pkg.dev/colab-wheels/public/simple/\n",
            "Requirement already satisfied: pandas in /usr/local/lib/python3.7/dist-packages (1.3.5)\n",
            "Requirement already satisfied: python-dateutil>=2.7.3 in /usr/local/lib/python3.7/dist-packages (from pandas) (2.8.2)\n",
            "Requirement already satisfied: pytz>=2017.3 in /usr/local/lib/python3.7/dist-packages (from pandas) (2022.1)\n",
            "Requirement already satisfied: numpy>=1.17.3 in /usr/local/lib/python3.7/dist-packages (from pandas) (1.21.6)\n",
            "Requirement already satisfied: six>=1.5 in /usr/local/lib/python3.7/dist-packages (from python-dateutil>=2.7.3->pandas) (1.15.0)\n",
            "Looking in indexes: https://pypi.org/simple, https://us-python.pkg.dev/colab-wheels/public/simple/\n",
            "Requirement already satisfied: pandas in /usr/local/lib/python3.7/dist-packages (1.3.5)\n",
            "Requirement already satisfied: python-dateutil>=2.7.3 in /usr/local/lib/python3.7/dist-packages (from pandas) (2.8.2)\n",
            "Requirement already satisfied: pytz>=2017.3 in /usr/local/lib/python3.7/dist-packages (from pandas) (2022.1)\n",
            "Requirement already satisfied: numpy>=1.17.3 in /usr/local/lib/python3.7/dist-packages (from pandas) (1.21.6)\n",
            "Requirement already satisfied: six>=1.5 in /usr/local/lib/python3.7/dist-packages (from python-dateutil>=2.7.3->pandas) (1.15.0)\n"
          ]
        }
      ]
    },
    {
      "cell_type": "code",
      "source": [
        "! ls /content/drive/My\\ Drive/FAES_BIOF309/Project_data # Quick exploration of directory structure."
      ],
      "metadata": {
        "colab": {
          "base_uri": "https://localhost:8080/"
        },
        "id": "XBNLoftpzckv",
        "outputId": "960100a4-fec3-494d-b19d-65ca1f739e14"
      },
      "execution_count": 52,
      "outputs": [
        {
          "output_type": "stream",
          "name": "stdout",
          "text": [
            "'Data Dictionary.gdoc'\t\t\t     TrimmedDataSet.csv.gsheet\n",
            "'Dataset pesticide and lung cancer.gsheet'  'TrimmedDataSet .gsheet'\n"
          ]
        }
      ]
    },
    {
      "cell_type": "code",
      "source": [
        "import pandas as pd\n",
        "outcome_df = pd.read_csv(\"./FAES_BIOF309/Project_data/TrimmedDataSet\", engine='c') # The engine option speeds the data ingest up."
      ],
      "metadata": {
        "colab": {
          "base_uri": "https://localhost:8080/",
          "height": 347
        },
        "id": "mUY-pBGOzl71",
        "outputId": "3390e91c-09bb-4482-ed2a-972204764ebb"
      },
      "execution_count": 57,
      "outputs": [
        {
          "output_type": "error",
          "ename": "FileNotFoundError",
          "evalue": "ignored",
          "traceback": [
            "\u001b[0;31m---------------------------------------------------------------------------\u001b[0m",
            "\u001b[0;31mFileNotFoundError\u001b[0m                         Traceback (most recent call last)",
            "\u001b[0;32m<ipython-input-57-270b5c477eb7>\u001b[0m in \u001b[0;36m<module>\u001b[0;34m()\u001b[0m\n\u001b[1;32m      1\u001b[0m \u001b[0;32mimport\u001b[0m \u001b[0mpandas\u001b[0m \u001b[0;32mas\u001b[0m \u001b[0mpd\u001b[0m\u001b[0;34m\u001b[0m\u001b[0;34m\u001b[0m\u001b[0m\n\u001b[0;32m----> 2\u001b[0;31m \u001b[0moutcome_df\u001b[0m \u001b[0;34m=\u001b[0m \u001b[0mpd\u001b[0m\u001b[0;34m.\u001b[0m\u001b[0mread_csv\u001b[0m\u001b[0;34m(\u001b[0m\u001b[0;34m\"./FAES_BIOF309/Project_data/TrimmedDataSet\"\u001b[0m\u001b[0;34m,\u001b[0m \u001b[0mengine\u001b[0m\u001b[0;34m=\u001b[0m\u001b[0;34m'c'\u001b[0m\u001b[0;34m)\u001b[0m \u001b[0;31m# The engine option speeds the data ingest up.\u001b[0m\u001b[0;34m\u001b[0m\u001b[0;34m\u001b[0m\u001b[0m\n\u001b[0m",
            "\u001b[0;32m/usr/local/lib/python3.7/dist-packages/pandas/util/_decorators.py\u001b[0m in \u001b[0;36mwrapper\u001b[0;34m(*args, **kwargs)\u001b[0m\n\u001b[1;32m    309\u001b[0m                     \u001b[0mstacklevel\u001b[0m\u001b[0;34m=\u001b[0m\u001b[0mstacklevel\u001b[0m\u001b[0;34m,\u001b[0m\u001b[0;34m\u001b[0m\u001b[0;34m\u001b[0m\u001b[0m\n\u001b[1;32m    310\u001b[0m                 )\n\u001b[0;32m--> 311\u001b[0;31m             \u001b[0;32mreturn\u001b[0m \u001b[0mfunc\u001b[0m\u001b[0;34m(\u001b[0m\u001b[0;34m*\u001b[0m\u001b[0margs\u001b[0m\u001b[0;34m,\u001b[0m \u001b[0;34m**\u001b[0m\u001b[0mkwargs\u001b[0m\u001b[0;34m)\u001b[0m\u001b[0;34m\u001b[0m\u001b[0;34m\u001b[0m\u001b[0m\n\u001b[0m\u001b[1;32m    312\u001b[0m \u001b[0;34m\u001b[0m\u001b[0m\n\u001b[1;32m    313\u001b[0m         \u001b[0;32mreturn\u001b[0m \u001b[0mwrapper\u001b[0m\u001b[0;34m\u001b[0m\u001b[0;34m\u001b[0m\u001b[0m\n",
            "\u001b[0;32m/usr/local/lib/python3.7/dist-packages/pandas/io/parsers/readers.py\u001b[0m in \u001b[0;36mread_csv\u001b[0;34m(filepath_or_buffer, sep, delimiter, header, names, index_col, usecols, squeeze, prefix, mangle_dupe_cols, dtype, engine, converters, true_values, false_values, skipinitialspace, skiprows, skipfooter, nrows, na_values, keep_default_na, na_filter, verbose, skip_blank_lines, parse_dates, infer_datetime_format, keep_date_col, date_parser, dayfirst, cache_dates, iterator, chunksize, compression, thousands, decimal, lineterminator, quotechar, quoting, doublequote, escapechar, comment, encoding, encoding_errors, dialect, error_bad_lines, warn_bad_lines, on_bad_lines, delim_whitespace, low_memory, memory_map, float_precision, storage_options)\u001b[0m\n\u001b[1;32m    584\u001b[0m     \u001b[0mkwds\u001b[0m\u001b[0;34m.\u001b[0m\u001b[0mupdate\u001b[0m\u001b[0;34m(\u001b[0m\u001b[0mkwds_defaults\u001b[0m\u001b[0;34m)\u001b[0m\u001b[0;34m\u001b[0m\u001b[0;34m\u001b[0m\u001b[0m\n\u001b[1;32m    585\u001b[0m \u001b[0;34m\u001b[0m\u001b[0m\n\u001b[0;32m--> 586\u001b[0;31m     \u001b[0;32mreturn\u001b[0m \u001b[0m_read\u001b[0m\u001b[0;34m(\u001b[0m\u001b[0mfilepath_or_buffer\u001b[0m\u001b[0;34m,\u001b[0m \u001b[0mkwds\u001b[0m\u001b[0;34m)\u001b[0m\u001b[0;34m\u001b[0m\u001b[0;34m\u001b[0m\u001b[0m\n\u001b[0m\u001b[1;32m    587\u001b[0m \u001b[0;34m\u001b[0m\u001b[0m\n\u001b[1;32m    588\u001b[0m \u001b[0;34m\u001b[0m\u001b[0m\n",
            "\u001b[0;32m/usr/local/lib/python3.7/dist-packages/pandas/io/parsers/readers.py\u001b[0m in \u001b[0;36m_read\u001b[0;34m(filepath_or_buffer, kwds)\u001b[0m\n\u001b[1;32m    480\u001b[0m \u001b[0;34m\u001b[0m\u001b[0m\n\u001b[1;32m    481\u001b[0m     \u001b[0;31m# Create the parser.\u001b[0m\u001b[0;34m\u001b[0m\u001b[0;34m\u001b[0m\u001b[0;34m\u001b[0m\u001b[0m\n\u001b[0;32m--> 482\u001b[0;31m     \u001b[0mparser\u001b[0m \u001b[0;34m=\u001b[0m \u001b[0mTextFileReader\u001b[0m\u001b[0;34m(\u001b[0m\u001b[0mfilepath_or_buffer\u001b[0m\u001b[0;34m,\u001b[0m \u001b[0;34m**\u001b[0m\u001b[0mkwds\u001b[0m\u001b[0;34m)\u001b[0m\u001b[0;34m\u001b[0m\u001b[0;34m\u001b[0m\u001b[0m\n\u001b[0m\u001b[1;32m    483\u001b[0m \u001b[0;34m\u001b[0m\u001b[0m\n\u001b[1;32m    484\u001b[0m     \u001b[0;32mif\u001b[0m \u001b[0mchunksize\u001b[0m \u001b[0;32mor\u001b[0m \u001b[0miterator\u001b[0m\u001b[0;34m:\u001b[0m\u001b[0;34m\u001b[0m\u001b[0;34m\u001b[0m\u001b[0m\n",
            "\u001b[0;32m/usr/local/lib/python3.7/dist-packages/pandas/io/parsers/readers.py\u001b[0m in \u001b[0;36m__init__\u001b[0;34m(self, f, engine, **kwds)\u001b[0m\n\u001b[1;32m    809\u001b[0m             \u001b[0mself\u001b[0m\u001b[0;34m.\u001b[0m\u001b[0moptions\u001b[0m\u001b[0;34m[\u001b[0m\u001b[0;34m\"has_index_names\"\u001b[0m\u001b[0;34m]\u001b[0m \u001b[0;34m=\u001b[0m \u001b[0mkwds\u001b[0m\u001b[0;34m[\u001b[0m\u001b[0;34m\"has_index_names\"\u001b[0m\u001b[0;34m]\u001b[0m\u001b[0;34m\u001b[0m\u001b[0;34m\u001b[0m\u001b[0m\n\u001b[1;32m    810\u001b[0m \u001b[0;34m\u001b[0m\u001b[0m\n\u001b[0;32m--> 811\u001b[0;31m         \u001b[0mself\u001b[0m\u001b[0;34m.\u001b[0m\u001b[0m_engine\u001b[0m \u001b[0;34m=\u001b[0m \u001b[0mself\u001b[0m\u001b[0;34m.\u001b[0m\u001b[0m_make_engine\u001b[0m\u001b[0;34m(\u001b[0m\u001b[0mself\u001b[0m\u001b[0;34m.\u001b[0m\u001b[0mengine\u001b[0m\u001b[0;34m)\u001b[0m\u001b[0;34m\u001b[0m\u001b[0;34m\u001b[0m\u001b[0m\n\u001b[0m\u001b[1;32m    812\u001b[0m \u001b[0;34m\u001b[0m\u001b[0m\n\u001b[1;32m    813\u001b[0m     \u001b[0;32mdef\u001b[0m \u001b[0mclose\u001b[0m\u001b[0;34m(\u001b[0m\u001b[0mself\u001b[0m\u001b[0;34m)\u001b[0m\u001b[0;34m:\u001b[0m\u001b[0;34m\u001b[0m\u001b[0;34m\u001b[0m\u001b[0m\n",
            "\u001b[0;32m/usr/local/lib/python3.7/dist-packages/pandas/io/parsers/readers.py\u001b[0m in \u001b[0;36m_make_engine\u001b[0;34m(self, engine)\u001b[0m\n\u001b[1;32m   1038\u001b[0m             )\n\u001b[1;32m   1039\u001b[0m         \u001b[0;31m# error: Too many arguments for \"ParserBase\"\u001b[0m\u001b[0;34m\u001b[0m\u001b[0;34m\u001b[0m\u001b[0;34m\u001b[0m\u001b[0m\n\u001b[0;32m-> 1040\u001b[0;31m         \u001b[0;32mreturn\u001b[0m \u001b[0mmapping\u001b[0m\u001b[0;34m[\u001b[0m\u001b[0mengine\u001b[0m\u001b[0;34m]\u001b[0m\u001b[0;34m(\u001b[0m\u001b[0mself\u001b[0m\u001b[0;34m.\u001b[0m\u001b[0mf\u001b[0m\u001b[0;34m,\u001b[0m \u001b[0;34m**\u001b[0m\u001b[0mself\u001b[0m\u001b[0;34m.\u001b[0m\u001b[0moptions\u001b[0m\u001b[0;34m)\u001b[0m  \u001b[0;31m# type: ignore[call-arg]\u001b[0m\u001b[0;34m\u001b[0m\u001b[0;34m\u001b[0m\u001b[0m\n\u001b[0m\u001b[1;32m   1041\u001b[0m \u001b[0;34m\u001b[0m\u001b[0m\n\u001b[1;32m   1042\u001b[0m     \u001b[0;32mdef\u001b[0m \u001b[0m_failover_to_python\u001b[0m\u001b[0;34m(\u001b[0m\u001b[0mself\u001b[0m\u001b[0;34m)\u001b[0m\u001b[0;34m:\u001b[0m\u001b[0;34m\u001b[0m\u001b[0;34m\u001b[0m\u001b[0m\n",
            "\u001b[0;32m/usr/local/lib/python3.7/dist-packages/pandas/io/parsers/c_parser_wrapper.py\u001b[0m in \u001b[0;36m__init__\u001b[0;34m(self, src, **kwds)\u001b[0m\n\u001b[1;32m     49\u001b[0m \u001b[0;34m\u001b[0m\u001b[0m\n\u001b[1;32m     50\u001b[0m         \u001b[0;31m# open handles\u001b[0m\u001b[0;34m\u001b[0m\u001b[0;34m\u001b[0m\u001b[0;34m\u001b[0m\u001b[0m\n\u001b[0;32m---> 51\u001b[0;31m         \u001b[0mself\u001b[0m\u001b[0;34m.\u001b[0m\u001b[0m_open_handles\u001b[0m\u001b[0;34m(\u001b[0m\u001b[0msrc\u001b[0m\u001b[0;34m,\u001b[0m \u001b[0mkwds\u001b[0m\u001b[0;34m)\u001b[0m\u001b[0;34m\u001b[0m\u001b[0;34m\u001b[0m\u001b[0m\n\u001b[0m\u001b[1;32m     52\u001b[0m         \u001b[0;32massert\u001b[0m \u001b[0mself\u001b[0m\u001b[0;34m.\u001b[0m\u001b[0mhandles\u001b[0m \u001b[0;32mis\u001b[0m \u001b[0;32mnot\u001b[0m \u001b[0;32mNone\u001b[0m\u001b[0;34m\u001b[0m\u001b[0;34m\u001b[0m\u001b[0m\n\u001b[1;32m     53\u001b[0m \u001b[0;34m\u001b[0m\u001b[0m\n",
            "\u001b[0;32m/usr/local/lib/python3.7/dist-packages/pandas/io/parsers/base_parser.py\u001b[0m in \u001b[0;36m_open_handles\u001b[0;34m(self, src, kwds)\u001b[0m\n\u001b[1;32m    227\u001b[0m             \u001b[0mmemory_map\u001b[0m\u001b[0;34m=\u001b[0m\u001b[0mkwds\u001b[0m\u001b[0;34m.\u001b[0m\u001b[0mget\u001b[0m\u001b[0;34m(\u001b[0m\u001b[0;34m\"memory_map\"\u001b[0m\u001b[0;34m,\u001b[0m \u001b[0;32mFalse\u001b[0m\u001b[0;34m)\u001b[0m\u001b[0;34m,\u001b[0m\u001b[0;34m\u001b[0m\u001b[0;34m\u001b[0m\u001b[0m\n\u001b[1;32m    228\u001b[0m             \u001b[0mstorage_options\u001b[0m\u001b[0;34m=\u001b[0m\u001b[0mkwds\u001b[0m\u001b[0;34m.\u001b[0m\u001b[0mget\u001b[0m\u001b[0;34m(\u001b[0m\u001b[0;34m\"storage_options\"\u001b[0m\u001b[0;34m,\u001b[0m \u001b[0;32mNone\u001b[0m\u001b[0;34m)\u001b[0m\u001b[0;34m,\u001b[0m\u001b[0;34m\u001b[0m\u001b[0;34m\u001b[0m\u001b[0m\n\u001b[0;32m--> 229\u001b[0;31m             \u001b[0merrors\u001b[0m\u001b[0;34m=\u001b[0m\u001b[0mkwds\u001b[0m\u001b[0;34m.\u001b[0m\u001b[0mget\u001b[0m\u001b[0;34m(\u001b[0m\u001b[0;34m\"encoding_errors\"\u001b[0m\u001b[0;34m,\u001b[0m \u001b[0;34m\"strict\"\u001b[0m\u001b[0;34m)\u001b[0m\u001b[0;34m,\u001b[0m\u001b[0;34m\u001b[0m\u001b[0;34m\u001b[0m\u001b[0m\n\u001b[0m\u001b[1;32m    230\u001b[0m         )\n\u001b[1;32m    231\u001b[0m \u001b[0;34m\u001b[0m\u001b[0m\n",
            "\u001b[0;32m/usr/local/lib/python3.7/dist-packages/pandas/io/common.py\u001b[0m in \u001b[0;36mget_handle\u001b[0;34m(path_or_buf, mode, encoding, compression, memory_map, is_text, errors, storage_options)\u001b[0m\n\u001b[1;32m    705\u001b[0m                 \u001b[0mencoding\u001b[0m\u001b[0;34m=\u001b[0m\u001b[0mioargs\u001b[0m\u001b[0;34m.\u001b[0m\u001b[0mencoding\u001b[0m\u001b[0;34m,\u001b[0m\u001b[0;34m\u001b[0m\u001b[0;34m\u001b[0m\u001b[0m\n\u001b[1;32m    706\u001b[0m                 \u001b[0merrors\u001b[0m\u001b[0;34m=\u001b[0m\u001b[0merrors\u001b[0m\u001b[0;34m,\u001b[0m\u001b[0;34m\u001b[0m\u001b[0;34m\u001b[0m\u001b[0m\n\u001b[0;32m--> 707\u001b[0;31m                 \u001b[0mnewline\u001b[0m\u001b[0;34m=\u001b[0m\u001b[0;34m\"\"\u001b[0m\u001b[0;34m,\u001b[0m\u001b[0;34m\u001b[0m\u001b[0;34m\u001b[0m\u001b[0m\n\u001b[0m\u001b[1;32m    708\u001b[0m             )\n\u001b[1;32m    709\u001b[0m         \u001b[0;32melse\u001b[0m\u001b[0;34m:\u001b[0m\u001b[0;34m\u001b[0m\u001b[0;34m\u001b[0m\u001b[0m\n",
            "\u001b[0;31mFileNotFoundError\u001b[0m: [Errno 2] No such file or directory: './FAES_BIOF309/Project_data/TrimmedDataSet'"
          ]
        }
      ]
    },
    {
      "cell_type": "code",
      "source": [
        ""
      ],
      "metadata": {
        "id": "-4iyNOdw0CZh"
      },
      "execution_count": null,
      "outputs": []
    },
    {
      "cell_type": "code",
      "source": [
        ""
      ],
      "metadata": {
        "id": "okaeXAfjzlrc"
      },
      "execution_count": null,
      "outputs": []
    },
    {
      "cell_type": "markdown",
      "source": [
        ""
      ],
      "metadata": {
        "id": "f_skKMZ0aqhS"
      }
    },
    {
      "cell_type": "markdown",
      "source": [
        ""
      ],
      "metadata": {
        "id": "yIGXZjrB09IS"
      }
    },
    {
      "cell_type": "markdown",
      "source": [
        "#5 Hyun (5a: Numpy and Pandas)"
      ],
      "metadata": {
        "id": "tTLLco5BasY4"
      }
    },
    {
      "cell_type": "code",
      "source": [
        "#5 Hyun Instructional DEMO 5a: Numpy and Pandas\n",
        "import pandas as pd\n",
        "import numpy as np\n",
        "! pip install --upgrade tables\n",
        "\n",
        "#data mount\n",
        "\n",
        "import os\n",
        "from google.colab import drive\n",
        "drive.mount('/content/drive/')\n",
        "os.chdir(\"/content/drive/My Drive/FAES_BIOF309\")"
      ],
      "metadata": {
        "id": "9cZsiiKSJWQg",
        "colab": {
          "base_uri": "https://localhost:8080/"
        },
        "outputId": "97559913-f665-4237-fca6-e4ea2d1b8047"
      },
      "execution_count": null,
      "outputs": [
        {
          "output_type": "stream",
          "name": "stdout",
          "text": [
            "Looking in indexes: https://pypi.org/simple, https://us-python.pkg.dev/colab-wheels/public/simple/\n",
            "Requirement already satisfied: tables in /usr/local/lib/python3.7/dist-packages (3.7.0)\n",
            "Requirement already satisfied: packaging in /usr/local/lib/python3.7/dist-packages (from tables) (21.3)\n",
            "Requirement already satisfied: numexpr>=2.6.2 in /usr/local/lib/python3.7/dist-packages (from tables) (2.8.3)\n",
            "Requirement already satisfied: numpy>=1.19.0 in /usr/local/lib/python3.7/dist-packages (from tables) (1.21.6)\n",
            "Requirement already satisfied: pyparsing!=3.0.5,>=2.0.2 in /usr/local/lib/python3.7/dist-packages (from packaging->tables) (3.0.9)\n",
            "Drive already mounted at /content/drive/; to attempt to forcibly remount, call drive.mount(\"/content/drive/\", force_remount=True).\n"
          ]
        }
      ]
    },
    {
      "cell_type": "code",
      "source": [
        " !head (\"/content/My Drive/FAES_BIOF309/Project_data/TrimmedDataSet\")"
      ],
      "metadata": {
        "id": "ivvse_zQ2F-u"
      },
      "execution_count": null,
      "outputs": []
    },
    {
      "cell_type": "markdown",
      "source": [
        "5b: Data visualization"
      ],
      "metadata": {
        "id": "tS5tYCep4-Ik"
      }
    },
    {
      "cell_type": "code",
      "source": [
        "import os\n",
        "from google.colab import drive\n",
        "drive.mount('/content/drive/')\n",
        "os.chdir(\"/content/drive/My Drive/FAES_BIOF309/\")"
      ],
      "metadata": {
        "colab": {
          "base_uri": "https://localhost:8080/"
        },
        "id": "xJJwdrCB2nH-",
        "outputId": "d682b5cd-f159-4ff6-85dd-1181d9ae7931"
      },
      "execution_count": null,
      "outputs": [
        {
          "output_type": "stream",
          "name": "stdout",
          "text": [
            "Drive already mounted at /content/drive/; to attempt to forcibly remount, call drive.mount(\"/content/drive/\", force_remount=True).\n"
          ]
        }
      ]
    },
    {
      "cell_type": "code",
      "source": [
        "import pandas as pd\n",
        "import seaborn as sns\n",
        "import matplotlib as plt\n",
        "import numpy as np"
      ],
      "metadata": {
        "id": "x0TMrNVC5C_t"
      },
      "execution_count": null,
      "outputs": []
    },
    {
      "cell_type": "markdown",
      "source": [
        "Ask Prof. Why the csv file did not run\n",
        "https://github.com/hcpy/lungcancer/blob/main/Trimmed%20Data%20Set%20for%20Team%20Project.csv\n"
      ],
      "metadata": {
        "id": "kvJmihLP_QYY"
      }
    },
    {
      "cell_type": "code",
      "source": [
        "pip install git+https://github.com/hcpy/lungcancer.git\n",
        "age = sns.load_dataset(\"lungcancer.git\")\n",
        "  "
      ],
      "metadata": {
        "colab": {
          "base_uri": "https://localhost:8080/",
          "height": 132
        },
        "id": "7kjpRft25eQn",
        "outputId": "ccba1124-0dac-4466-a2e5-79a16b65bfcb"
      },
      "execution_count": 59,
      "outputs": [
        {
          "output_type": "error",
          "ename": "SyntaxError",
          "evalue": "ignored",
          "traceback": [
            "\u001b[0;36m  File \u001b[0;32m\"<ipython-input-59-4a48ee349646>\"\u001b[0;36m, line \u001b[0;32m1\u001b[0m\n\u001b[0;31m    pip install git+https://github.com/hcpy/lungcancer.git\u001b[0m\n\u001b[0m              ^\u001b[0m\n\u001b[0;31mSyntaxError\u001b[0m\u001b[0;31m:\u001b[0m invalid syntax\n"
          ]
        }
      ]
    },
    {
      "cell_type": "code",
      "source": [
        "projectdata = sns.load_dataset(\"Trimmed Data Set for Team Project.csv)"
      ],
      "metadata": {
        "colab": {
          "base_uri": "https://localhost:8080/",
          "height": 132
        },
        "id": "ZA6b8hAW8k-f",
        "outputId": "c1167236-1a26-4d0e-ab00-736534ee7a70"
      },
      "execution_count": null,
      "outputs": [
        {
          "output_type": "error",
          "ename": "SyntaxError",
          "evalue": "ignored",
          "traceback": [
            "\u001b[0;36m  File \u001b[0;32m\"<ipython-input-66-aa9cdb7ac374>\"\u001b[0;36m, line \u001b[0;32m1\u001b[0m\n\u001b[0;31m    projectdata = sns.load_dataset(\"Trimmed Data Set for Team Project.csv)\u001b[0m\n\u001b[0m                                                                          ^\u001b[0m\n\u001b[0;31mSyntaxError\u001b[0m\u001b[0;31m:\u001b[0m EOL while scanning string literal\n"
          ]
        }
      ]
    },
    {
      "cell_type": "code",
      "source": [
        "age = sns.load_dataset(\"age\")"
      ],
      "metadata": {
        "colab": {
          "base_uri": "https://localhost:8080/",
          "height": 288
        },
        "id": "gP_vVR1UB9IC",
        "outputId": "d5a72d5f-821b-45e8-86b8-23d7bd00cdbf"
      },
      "execution_count": null,
      "outputs": [
        {
          "output_type": "error",
          "ename": "ValueError",
          "evalue": "ignored",
          "traceback": [
            "\u001b[0;31m---------------------------------------------------------------------------\u001b[0m",
            "\u001b[0;31mValueError\u001b[0m                                Traceback (most recent call last)",
            "\u001b[0;32m<ipython-input-67-b8d06edced34>\u001b[0m in \u001b[0;36m<module>\u001b[0;34m()\u001b[0m\n\u001b[0;32m----> 1\u001b[0;31m \u001b[0mage\u001b[0m \u001b[0;34m=\u001b[0m \u001b[0msns\u001b[0m\u001b[0;34m.\u001b[0m\u001b[0mload_dataset\u001b[0m\u001b[0;34m(\u001b[0m\u001b[0;34m\"age\"\u001b[0m\u001b[0;34m)\u001b[0m\u001b[0;34m\u001b[0m\u001b[0;34m\u001b[0m\u001b[0m\n\u001b[0m",
            "\u001b[0;32m/usr/local/lib/python3.7/dist-packages/seaborn/utils.py\u001b[0m in \u001b[0;36mload_dataset\u001b[0;34m(name, cache, data_home, **kws)\u001b[0m\n\u001b[1;32m    593\u001b[0m         \u001b[0;32mif\u001b[0m \u001b[0;32mnot\u001b[0m \u001b[0mos\u001b[0m\u001b[0;34m.\u001b[0m\u001b[0mpath\u001b[0m\u001b[0;34m.\u001b[0m\u001b[0mexists\u001b[0m\u001b[0;34m(\u001b[0m\u001b[0mcache_path\u001b[0m\u001b[0;34m)\u001b[0m\u001b[0;34m:\u001b[0m\u001b[0;34m\u001b[0m\u001b[0;34m\u001b[0m\u001b[0m\n\u001b[1;32m    594\u001b[0m             \u001b[0;32mif\u001b[0m \u001b[0mname\u001b[0m \u001b[0;32mnot\u001b[0m \u001b[0;32min\u001b[0m \u001b[0mget_dataset_names\u001b[0m\u001b[0;34m(\u001b[0m\u001b[0;34m)\u001b[0m\u001b[0;34m:\u001b[0m\u001b[0;34m\u001b[0m\u001b[0;34m\u001b[0m\u001b[0m\n\u001b[0;32m--> 595\u001b[0;31m                 \u001b[0;32mraise\u001b[0m \u001b[0mValueError\u001b[0m\u001b[0;34m(\u001b[0m\u001b[0;34mf\"'{name}' is not one of the example datasets.\"\u001b[0m\u001b[0;34m)\u001b[0m\u001b[0;34m\u001b[0m\u001b[0;34m\u001b[0m\u001b[0m\n\u001b[0m\u001b[1;32m    596\u001b[0m             \u001b[0murlretrieve\u001b[0m\u001b[0;34m(\u001b[0m\u001b[0murl\u001b[0m\u001b[0;34m,\u001b[0m \u001b[0mcache_path\u001b[0m\u001b[0;34m)\u001b[0m\u001b[0;34m\u001b[0m\u001b[0;34m\u001b[0m\u001b[0m\n\u001b[1;32m    597\u001b[0m         \u001b[0mfull_path\u001b[0m \u001b[0;34m=\u001b[0m \u001b[0mcache_path\u001b[0m\u001b[0;34m\u001b[0m\u001b[0;34m\u001b[0m\u001b[0m\n",
            "\u001b[0;31mValueError\u001b[0m: 'age' is not one of the example datasets."
          ]
        }
      ]
    },
    {
      "cell_type": "code",
      "source": [
        "lungcancer = sns.load_dataset(\"lungcancer\")\n",
        "lungcancer.head()"
      ],
      "metadata": {
        "colab": {
          "base_uri": "https://localhost:8080/",
          "height": 305
        },
        "id": "AqaHCHhOCYN-",
        "outputId": "1f456f81-574f-4fb6-9f9c-77c51069d9cf"
      },
      "execution_count": null,
      "outputs": [
        {
          "output_type": "error",
          "ename": "ValueError",
          "evalue": "ignored",
          "traceback": [
            "\u001b[0;31m---------------------------------------------------------------------------\u001b[0m",
            "\u001b[0;31mValueError\u001b[0m                                Traceback (most recent call last)",
            "\u001b[0;32m<ipython-input-68-682166557b67>\u001b[0m in \u001b[0;36m<module>\u001b[0;34m()\u001b[0m\n\u001b[0;32m----> 1\u001b[0;31m \u001b[0mlungcancer\u001b[0m \u001b[0;34m=\u001b[0m \u001b[0msns\u001b[0m\u001b[0;34m.\u001b[0m\u001b[0mload_dataset\u001b[0m\u001b[0;34m(\u001b[0m\u001b[0;34m\"lungcancer\"\u001b[0m\u001b[0;34m)\u001b[0m\u001b[0;34m\u001b[0m\u001b[0;34m\u001b[0m\u001b[0m\n\u001b[0m\u001b[1;32m      2\u001b[0m \u001b[0mlungcancer\u001b[0m\u001b[0;34m.\u001b[0m\u001b[0mhead\u001b[0m\u001b[0;34m(\u001b[0m\u001b[0;34m)\u001b[0m\u001b[0;34m\u001b[0m\u001b[0;34m\u001b[0m\u001b[0m\n",
            "\u001b[0;32m/usr/local/lib/python3.7/dist-packages/seaborn/utils.py\u001b[0m in \u001b[0;36mload_dataset\u001b[0;34m(name, cache, data_home, **kws)\u001b[0m\n\u001b[1;32m    593\u001b[0m         \u001b[0;32mif\u001b[0m \u001b[0;32mnot\u001b[0m \u001b[0mos\u001b[0m\u001b[0;34m.\u001b[0m\u001b[0mpath\u001b[0m\u001b[0;34m.\u001b[0m\u001b[0mexists\u001b[0m\u001b[0;34m(\u001b[0m\u001b[0mcache_path\u001b[0m\u001b[0;34m)\u001b[0m\u001b[0;34m:\u001b[0m\u001b[0;34m\u001b[0m\u001b[0;34m\u001b[0m\u001b[0m\n\u001b[1;32m    594\u001b[0m             \u001b[0;32mif\u001b[0m \u001b[0mname\u001b[0m \u001b[0;32mnot\u001b[0m \u001b[0;32min\u001b[0m \u001b[0mget_dataset_names\u001b[0m\u001b[0;34m(\u001b[0m\u001b[0;34m)\u001b[0m\u001b[0;34m:\u001b[0m\u001b[0;34m\u001b[0m\u001b[0;34m\u001b[0m\u001b[0m\n\u001b[0;32m--> 595\u001b[0;31m                 \u001b[0;32mraise\u001b[0m \u001b[0mValueError\u001b[0m\u001b[0;34m(\u001b[0m\u001b[0;34mf\"'{name}' is not one of the example datasets.\"\u001b[0m\u001b[0;34m)\u001b[0m\u001b[0;34m\u001b[0m\u001b[0;34m\u001b[0m\u001b[0m\n\u001b[0m\u001b[1;32m    596\u001b[0m             \u001b[0murlretrieve\u001b[0m\u001b[0;34m(\u001b[0m\u001b[0murl\u001b[0m\u001b[0;34m,\u001b[0m \u001b[0mcache_path\u001b[0m\u001b[0;34m)\u001b[0m\u001b[0;34m\u001b[0m\u001b[0;34m\u001b[0m\u001b[0m\n\u001b[1;32m    597\u001b[0m         \u001b[0mfull_path\u001b[0m \u001b[0;34m=\u001b[0m \u001b[0mcache_path\u001b[0m\u001b[0;34m\u001b[0m\u001b[0;34m\u001b[0m\u001b[0m\n",
            "\u001b[0;31mValueError\u001b[0m: 'lungcancer' is not one of the example datasets."
          ]
        }
      ]
    },
    {
      "cell_type": "code",
      "source": [
        "test_df = pd.read_csv(\"/content/MyDrive/FAES_BIO309/Project_data/TrimmedDataSet.csv\")\n",
        "test_df = pd.read_csv(\"(\"/content/drive/My Drive/FAES_BIOF309/example_data/discrete/training_addit.csv\")\")"
      ],
      "metadata": {
        "colab": {
          "base_uri": "https://localhost:8080/",
          "height": 132
        },
        "id": "kIrWVGorCqx5",
        "outputId": "6e45fa9e-ecc5-441f-e129-8cf3d6f87bc1"
      },
      "execution_count": null,
      "outputs": [
        {
          "output_type": "error",
          "ename": "SyntaxError",
          "evalue": "ignored",
          "traceback": [
            "\u001b[0;36m  File \u001b[0;32m\"<ipython-input-69-3ea6a37cd094>\"\u001b[0;36m, line \u001b[0;32m2\u001b[0m\n\u001b[0;31m    test_df = pd.read_csv(\"(\"/content/drive/My Drive/FAES_BIOF309/example_data/discrete/training_addit.csv\")\")\u001b[0m\n\u001b[0m                                                   ^\u001b[0m\n\u001b[0;31mSyntaxError\u001b[0m\u001b[0;31m:\u001b[0m invalid syntax\n"
          ]
        }
      ]
    },
    {
      "cell_type": "markdown",
      "source": [
        "Ask prof of Line 20"
      ],
      "metadata": {
        "id": "MZhdZLb_WgNH"
      }
    },
    {
      "cell_type": "code",
      "source": [
        "\n",
        "import numpy as np\n",
        " pip install pip --upgrade\n",
        " pip --version\n"
      ],
      "metadata": {
        "id": "ZA_bqVyvQspq",
        "colab": {
          "base_uri": "https://localhost:8080/",
          "height": 132
        },
        "outputId": "73f7d064-eb38-44e9-a0b4-48e961e0d2e9"
      },
      "execution_count": null,
      "outputs": [
        {
          "output_type": "error",
          "ename": "IndentationError",
          "evalue": "ignored",
          "traceback": [
            "\u001b[0;36m  File \u001b[0;32m\"<ipython-input-70-b9e8171cc15e>\"\u001b[0;36m, line \u001b[0;32m3\u001b[0m\n\u001b[0;31m    pip install pip --upgrade\u001b[0m\n\u001b[0m    ^\u001b[0m\n\u001b[0;31mIndentationError\u001b[0m\u001b[0;31m:\u001b[0m unexpected indent\n"
          ]
        }
      ]
    },
    {
      "cell_type": "code",
      "source": [
        " print (\"Age_group variable explained\")\n",
        "# List of values for the age groups\n",
        "L = [1, 2, 3, 4]  \n",
        "array = np.array(L)  \n",
        "array\n",
        "print (\"1 refers to those with age less than or equal to 54, \")\n",
        "print (\"2 refer to those with age 55-64 yr, \")\n",
        "print (\"3 refer to those with age 65-74 yr, \")\n",
        "print (\"4 refer to those with age 75 yr or more \")"
      ],
      "metadata": {
        "colab": {
          "base_uri": "https://localhost:8080/"
        },
        "id": "Ci_ne5_PeK0B",
        "outputId": "ad5c42c9-a78b-4867-c96c-49d3d7581a27"
      },
      "execution_count": null,
      "outputs": [
        {
          "output_type": "stream",
          "name": "stdout",
          "text": [
            "Age_group variable explained\n",
            "1 refers to those with age less than or equal to 54, \n",
            "2 refer to those with age 55-64 yr, \n",
            "3 refer to those with age 65-74 yr, \n",
            "4 refer to those with age 75 yr or more \n"
          ]
        }
      ]
    },
    {
      "cell_type": "code",
      "source": [
        "#numpy array of strings\n",
        "print (\"Marital status of the responders, \")\n",
        "np.array(['1 refer to those who are single, ','2 refer to those who are married, ','3 refer to those who are divorced/spouse passed away/separated'])"
      ],
      "metadata": {
        "colab": {
          "base_uri": "https://localhost:8080/"
        },
        "id": "T7RCAJz0XI17",
        "outputId": "1c61741b-ba18-4901-bc8e-d39cacdcead2"
      },
      "execution_count": null,
      "outputs": [
        {
          "output_type": "stream",
          "name": "stdout",
          "text": [
            "Marital status of the responders, \n"
          ]
        },
        {
          "output_type": "execute_result",
          "data": {
            "text/plain": [
              "array(['1 refer to those who are single, ',\n",
              "       '2 refer to those who are married, ',\n",
              "       '3 refer to those who are divorced/spouse passed away/separated'],\n",
              "      dtype='<U62')"
            ]
          },
          "metadata": {},
          "execution_count": 46
        }
      ]
    },
    {
      "cell_type": "code",
      "source": [
        "# This is your data in the text file\n",
        " \n",
        "# Import your data\n",
        "x, y, z = np.loadtxt('smalldataintxt.txt',\n",
        "                    skiprows=1,\n",
        "                    unpack=True)"
      ],
      "metadata": {
        "colab": {
          "base_uri": "https://localhost:8080/",
          "height": 347
        },
        "id": "jjItXkGBfK-p",
        "outputId": "e4a123f9-7439-4379-daf1-bf2c9d4bb89c"
      },
      "execution_count": null,
      "outputs": [
        {
          "output_type": "error",
          "ename": "OSError",
          "evalue": "ignored",
          "traceback": [
            "\u001b[0;31m---------------------------------------------------------------------------\u001b[0m",
            "\u001b[0;31mOSError\u001b[0m                                   Traceback (most recent call last)",
            "\u001b[0;32m<ipython-input-52-fba4c5a827c6>\u001b[0m in \u001b[0;36m<module>\u001b[0;34m()\u001b[0m\n\u001b[1;32m      4\u001b[0m x, y, z = np.loadtxt('smalldataintxt.txt',\n\u001b[1;32m      5\u001b[0m                     \u001b[0mskiprows\u001b[0m\u001b[0;34m=\u001b[0m\u001b[0;36m1\u001b[0m\u001b[0;34m,\u001b[0m\u001b[0;34m\u001b[0m\u001b[0;34m\u001b[0m\u001b[0m\n\u001b[0;32m----> 6\u001b[0;31m                     unpack=True)\n\u001b[0m",
            "\u001b[0;32m/usr/local/lib/python3.7/dist-packages/numpy/lib/npyio.py\u001b[0m in \u001b[0;36mloadtxt\u001b[0;34m(fname, dtype, comments, delimiter, converters, skiprows, usecols, unpack, ndmin, encoding, max_rows, like)\u001b[0m\n\u001b[1;32m   1065\u001b[0m             \u001b[0mfname\u001b[0m \u001b[0;34m=\u001b[0m \u001b[0mos_fspath\u001b[0m\u001b[0;34m(\u001b[0m\u001b[0mfname\u001b[0m\u001b[0;34m)\u001b[0m\u001b[0;34m\u001b[0m\u001b[0;34m\u001b[0m\u001b[0m\n\u001b[1;32m   1066\u001b[0m         \u001b[0;32mif\u001b[0m \u001b[0m_is_string_like\u001b[0m\u001b[0;34m(\u001b[0m\u001b[0mfname\u001b[0m\u001b[0;34m)\u001b[0m\u001b[0;34m:\u001b[0m\u001b[0;34m\u001b[0m\u001b[0;34m\u001b[0m\u001b[0m\n\u001b[0;32m-> 1067\u001b[0;31m             \u001b[0mfh\u001b[0m \u001b[0;34m=\u001b[0m \u001b[0mnp\u001b[0m\u001b[0;34m.\u001b[0m\u001b[0mlib\u001b[0m\u001b[0;34m.\u001b[0m\u001b[0m_datasource\u001b[0m\u001b[0;34m.\u001b[0m\u001b[0mopen\u001b[0m\u001b[0;34m(\u001b[0m\u001b[0mfname\u001b[0m\u001b[0;34m,\u001b[0m \u001b[0;34m'rt'\u001b[0m\u001b[0;34m,\u001b[0m \u001b[0mencoding\u001b[0m\u001b[0;34m=\u001b[0m\u001b[0mencoding\u001b[0m\u001b[0;34m)\u001b[0m\u001b[0;34m\u001b[0m\u001b[0;34m\u001b[0m\u001b[0m\n\u001b[0m\u001b[1;32m   1068\u001b[0m             \u001b[0mfencoding\u001b[0m \u001b[0;34m=\u001b[0m \u001b[0mgetattr\u001b[0m\u001b[0;34m(\u001b[0m\u001b[0mfh\u001b[0m\u001b[0;34m,\u001b[0m \u001b[0;34m'encoding'\u001b[0m\u001b[0;34m,\u001b[0m \u001b[0;34m'latin1'\u001b[0m\u001b[0;34m)\u001b[0m\u001b[0;34m\u001b[0m\u001b[0;34m\u001b[0m\u001b[0m\n\u001b[1;32m   1069\u001b[0m             \u001b[0mfh\u001b[0m \u001b[0;34m=\u001b[0m \u001b[0miter\u001b[0m\u001b[0;34m(\u001b[0m\u001b[0mfh\u001b[0m\u001b[0;34m)\u001b[0m\u001b[0;34m\u001b[0m\u001b[0;34m\u001b[0m\u001b[0m\n",
            "\u001b[0;32m/usr/local/lib/python3.7/dist-packages/numpy/lib/_datasource.py\u001b[0m in \u001b[0;36mopen\u001b[0;34m(path, mode, destpath, encoding, newline)\u001b[0m\n\u001b[1;32m    191\u001b[0m \u001b[0;34m\u001b[0m\u001b[0m\n\u001b[1;32m    192\u001b[0m     \u001b[0mds\u001b[0m \u001b[0;34m=\u001b[0m \u001b[0mDataSource\u001b[0m\u001b[0;34m(\u001b[0m\u001b[0mdestpath\u001b[0m\u001b[0;34m)\u001b[0m\u001b[0;34m\u001b[0m\u001b[0;34m\u001b[0m\u001b[0m\n\u001b[0;32m--> 193\u001b[0;31m     \u001b[0;32mreturn\u001b[0m \u001b[0mds\u001b[0m\u001b[0;34m.\u001b[0m\u001b[0mopen\u001b[0m\u001b[0;34m(\u001b[0m\u001b[0mpath\u001b[0m\u001b[0;34m,\u001b[0m \u001b[0mmode\u001b[0m\u001b[0;34m,\u001b[0m \u001b[0mencoding\u001b[0m\u001b[0;34m=\u001b[0m\u001b[0mencoding\u001b[0m\u001b[0;34m,\u001b[0m \u001b[0mnewline\u001b[0m\u001b[0;34m=\u001b[0m\u001b[0mnewline\u001b[0m\u001b[0;34m)\u001b[0m\u001b[0;34m\u001b[0m\u001b[0;34m\u001b[0m\u001b[0m\n\u001b[0m\u001b[1;32m    194\u001b[0m \u001b[0;34m\u001b[0m\u001b[0m\n\u001b[1;32m    195\u001b[0m \u001b[0;34m\u001b[0m\u001b[0m\n",
            "\u001b[0;32m/usr/local/lib/python3.7/dist-packages/numpy/lib/_datasource.py\u001b[0m in \u001b[0;36mopen\u001b[0;34m(self, path, mode, encoding, newline)\u001b[0m\n\u001b[1;32m    531\u001b[0m                                       encoding=encoding, newline=newline)\n\u001b[1;32m    532\u001b[0m         \u001b[0;32melse\u001b[0m\u001b[0;34m:\u001b[0m\u001b[0;34m\u001b[0m\u001b[0;34m\u001b[0m\u001b[0m\n\u001b[0;32m--> 533\u001b[0;31m             \u001b[0;32mraise\u001b[0m \u001b[0mIOError\u001b[0m\u001b[0;34m(\u001b[0m\u001b[0;34m\"%s not found.\"\u001b[0m \u001b[0;34m%\u001b[0m \u001b[0mpath\u001b[0m\u001b[0;34m)\u001b[0m\u001b[0;34m\u001b[0m\u001b[0;34m\u001b[0m\u001b[0m\n\u001b[0m\u001b[1;32m    534\u001b[0m \u001b[0;34m\u001b[0m\u001b[0m\n\u001b[1;32m    535\u001b[0m \u001b[0;34m\u001b[0m\u001b[0m\n",
            "\u001b[0;31mOSError\u001b[0m: smalldataintxt.txt not found."
          ]
        }
      ]
    },
    {
      "cell_type": "markdown",
      "source": [
        "Ask Prof Line 27 transpose data did not work"
      ],
      "metadata": {
        "id": "6iKItoQ-Y2_v"
      }
    },
    {
      "cell_type": "code",
      "source": [
        "import pandas as pd\n",
        "pd.read_csv(\"/content/drive/My Drive/FAES_BIOF309/Project_data/TrimmedDataSet.csv\"), parse_dates=True)"
      ],
      "metadata": {
        "colab": {
          "base_uri": "https://localhost:8080/",
          "height": 132
        },
        "id": "nFvPwDy7jYjH",
        "outputId": "6428aad9-f69f-401f-d971-6b0eedf342e6"
      },
      "execution_count": null,
      "outputs": [
        {
          "output_type": "error",
          "ename": "SyntaxError",
          "evalue": "ignored",
          "traceback": [
            "\u001b[0;36m  File \u001b[0;32m\"<ipython-input-60-007e3c7711fd>\"\u001b[0;36m, line \u001b[0;32m2\u001b[0m\n\u001b[0;31m    pd.read_csv(\"/content/drive/My Drive/FAES_BIOF309/Project_data/TrimmedDataSet.csv\"), parse_dates=True)\u001b[0m\n\u001b[0m                                                                                                         ^\u001b[0m\n\u001b[0;31mSyntaxError\u001b[0m\u001b[0;31m:\u001b[0m invalid syntax\n"
          ]
        }
      ]
    },
    {
      "cell_type": "code",
      "source": [
        "import csv\n",
        "#transpose data\n",
        "import pandas as pd\n",
        "long_df = pd.read_csv(\"TrimmedDataSet.csv\")\", engine='c')\n",
        "long_df.head()"
      ],
      "metadata": {
        "colab": {
          "base_uri": "https://localhost:8080/",
          "height": 132
        },
        "id": "738LccN3Xjms",
        "outputId": "3ebf7724-3a95-4592-d36a-6af71563d10c"
      },
      "execution_count": 60,
      "outputs": [
        {
          "output_type": "error",
          "ename": "SyntaxError",
          "evalue": "ignored",
          "traceback": [
            "\u001b[0;36m  File \u001b[0;32m\"<ipython-input-60-a575824c1245>\"\u001b[0;36m, line \u001b[0;32m4\u001b[0m\n\u001b[0;31m    long_df = pd.read_csv(\"/TrimmedDataSet.csv\")\", engine='c')\u001b[0m\n\u001b[0m                                                              ^\u001b[0m\n\u001b[0;31mSyntaxError\u001b[0m\u001b[0;31m:\u001b[0m EOL while scanning string literal\n"
          ]
        }
      ]
    },
    {
      "cell_type": "code",
      "source": [
        "wide_df = long_df.transpose()\n",
        "wide_df.head()"
      ],
      "metadata": {
        "colab": {
          "base_uri": "https://localhost:8080/",
          "height": 184
        },
        "id": "cXOO4dxxZdCI",
        "outputId": "3ba5003a-9a85-42c6-ea61-a6f45be87a7f"
      },
      "execution_count": null,
      "outputs": [
        {
          "output_type": "error",
          "ename": "NameError",
          "evalue": "ignored",
          "traceback": [
            "\u001b[0;31m---------------------------------------------------------------------------\u001b[0m",
            "\u001b[0;31mNameError\u001b[0m                                 Traceback (most recent call last)",
            "\u001b[0;32m<ipython-input-57-1c8653a0ea04>\u001b[0m in \u001b[0;36m<module>\u001b[0;34m()\u001b[0m\n\u001b[0;32m----> 1\u001b[0;31m \u001b[0mwide_df\u001b[0m \u001b[0;34m=\u001b[0m \u001b[0mlong_df\u001b[0m\u001b[0;34m.\u001b[0m\u001b[0mtranspose\u001b[0m\u001b[0;34m(\u001b[0m\u001b[0;34m)\u001b[0m\u001b[0;34m\u001b[0m\u001b[0;34m\u001b[0m\u001b[0m\n\u001b[0m\u001b[1;32m      2\u001b[0m \u001b[0mwide_df\u001b[0m\u001b[0;34m.\u001b[0m\u001b[0mhead\u001b[0m\u001b[0;34m(\u001b[0m\u001b[0;34m)\u001b[0m\u001b[0;34m\u001b[0m\u001b[0;34m\u001b[0m\u001b[0m\n",
            "\u001b[0;31mNameError\u001b[0m: name 'long_df' is not defined"
          ]
        }
      ]
    },
    {
      "cell_type": "code",
      "source": [
        "#count unique values \n",
        "age_counts = high_smellers_reordered_df['age'].value_counts()\n",
        "print(age_counts)\n"
      ],
      "metadata": {
        "id": "Z3fOyQpvaRAP"
      },
      "execution_count": null,
      "outputs": []
    },
    {
      "cell_type": "code",
      "source": [
        "import TrimmedDataSet as pd"
      ],
      "metadata": {
        "id": "kTDSHNRAkFyC"
      },
      "execution_count": null,
      "outputs": []
    },
    {
      "cell_type": "code",
      "source": [
        "import pandas as pd\n",
        "df.to_csv('TrimmedDataSet.csv')"
      ],
      "metadata": {
        "id": "8h_17nTRkUnn"
      },
      "execution_count": null,
      "outputs": []
    },
    {
      "cell_type": "code",
      "source": [
        "import pandas as pd\n",
        "writer = pd.ExcelWriter('TrimmedDataSet')\n",
        "df.to_excel(writer, 'DataFrame')\n",
        "writer.save()"
      ],
      "metadata": {
        "id": "9iwm6MyVkY4d",
        "colab": {
          "base_uri": "https://localhost:8080/",
          "height": 468
        },
        "outputId": "7bae7698-a772-4307-bdc3-e8d939c4b6ff"
      },
      "execution_count": 64,
      "outputs": [
        {
          "output_type": "error",
          "ename": "ValueError",
          "evalue": "ignored",
          "traceback": [
            "\u001b[0;31m---------------------------------------------------------------------------\u001b[0m",
            "\u001b[0;31mOptionError\u001b[0m                               Traceback (most recent call last)",
            "\u001b[0;32m/usr/local/lib/python3.7/dist-packages/pandas/io/excel/_base.py\u001b[0m in \u001b[0;36m__new__\u001b[0;34m(cls, path, engine, date_format, datetime_format, mode, storage_options, if_sheet_exists, engine_kwargs, **kwargs)\u001b[0m\n\u001b[1;32m    826\u001b[0m                 \u001b[0;32mtry\u001b[0m\u001b[0;34m:\u001b[0m\u001b[0;34m\u001b[0m\u001b[0;34m\u001b[0m\u001b[0m\n\u001b[0;32m--> 827\u001b[0;31m                     \u001b[0mengine\u001b[0m \u001b[0;34m=\u001b[0m \u001b[0mconfig\u001b[0m\u001b[0;34m.\u001b[0m\u001b[0mget_option\u001b[0m\u001b[0;34m(\u001b[0m\u001b[0;34mf\"io.excel.{ext}.writer\"\u001b[0m\u001b[0;34m,\u001b[0m \u001b[0msilent\u001b[0m\u001b[0;34m=\u001b[0m\u001b[0;32mTrue\u001b[0m\u001b[0;34m)\u001b[0m\u001b[0;34m\u001b[0m\u001b[0;34m\u001b[0m\u001b[0m\n\u001b[0m\u001b[1;32m    828\u001b[0m                     \u001b[0;32mif\u001b[0m \u001b[0mengine\u001b[0m \u001b[0;34m==\u001b[0m \u001b[0;34m\"auto\"\u001b[0m\u001b[0;34m:\u001b[0m\u001b[0;34m\u001b[0m\u001b[0;34m\u001b[0m\u001b[0m\n",
            "\u001b[0;32m/usr/local/lib/python3.7/dist-packages/pandas/_config/config.py\u001b[0m in \u001b[0;36m__call__\u001b[0;34m(self, *args, **kwds)\u001b[0m\n\u001b[1;32m    242\u001b[0m     \u001b[0;32mdef\u001b[0m \u001b[0m__call__\u001b[0m\u001b[0;34m(\u001b[0m\u001b[0mself\u001b[0m\u001b[0;34m,\u001b[0m \u001b[0;34m*\u001b[0m\u001b[0margs\u001b[0m\u001b[0;34m,\u001b[0m \u001b[0;34m**\u001b[0m\u001b[0mkwds\u001b[0m\u001b[0;34m)\u001b[0m\u001b[0;34m:\u001b[0m\u001b[0;34m\u001b[0m\u001b[0;34m\u001b[0m\u001b[0m\n\u001b[0;32m--> 243\u001b[0;31m         \u001b[0;32mreturn\u001b[0m \u001b[0mself\u001b[0m\u001b[0;34m.\u001b[0m\u001b[0m__func__\u001b[0m\u001b[0;34m(\u001b[0m\u001b[0;34m*\u001b[0m\u001b[0margs\u001b[0m\u001b[0;34m,\u001b[0m \u001b[0;34m**\u001b[0m\u001b[0mkwds\u001b[0m\u001b[0;34m)\u001b[0m\u001b[0;34m\u001b[0m\u001b[0;34m\u001b[0m\u001b[0m\n\u001b[0m\u001b[1;32m    244\u001b[0m \u001b[0;34m\u001b[0m\u001b[0m\n",
            "\u001b[0;32m/usr/local/lib/python3.7/dist-packages/pandas/_config/config.py\u001b[0m in \u001b[0;36m_get_option\u001b[0;34m(pat, silent)\u001b[0m\n\u001b[1;32m    114\u001b[0m \u001b[0;32mdef\u001b[0m \u001b[0m_get_option\u001b[0m\u001b[0;34m(\u001b[0m\u001b[0mpat\u001b[0m\u001b[0;34m:\u001b[0m \u001b[0mstr\u001b[0m\u001b[0;34m,\u001b[0m \u001b[0msilent\u001b[0m\u001b[0;34m:\u001b[0m \u001b[0mbool\u001b[0m \u001b[0;34m=\u001b[0m \u001b[0;32mFalse\u001b[0m\u001b[0;34m)\u001b[0m\u001b[0;34m:\u001b[0m\u001b[0;34m\u001b[0m\u001b[0;34m\u001b[0m\u001b[0m\n\u001b[0;32m--> 115\u001b[0;31m     \u001b[0mkey\u001b[0m \u001b[0;34m=\u001b[0m \u001b[0m_get_single_key\u001b[0m\u001b[0;34m(\u001b[0m\u001b[0mpat\u001b[0m\u001b[0;34m,\u001b[0m \u001b[0msilent\u001b[0m\u001b[0;34m)\u001b[0m\u001b[0;34m\u001b[0m\u001b[0;34m\u001b[0m\u001b[0m\n\u001b[0m\u001b[1;32m    116\u001b[0m \u001b[0;34m\u001b[0m\u001b[0m\n",
            "\u001b[0;32m/usr/local/lib/python3.7/dist-packages/pandas/_config/config.py\u001b[0m in \u001b[0;36m_get_single_key\u001b[0;34m(pat, silent)\u001b[0m\n\u001b[1;32m    100\u001b[0m             \u001b[0m_warn_if_deprecated\u001b[0m\u001b[0;34m(\u001b[0m\u001b[0mpat\u001b[0m\u001b[0;34m)\u001b[0m\u001b[0;34m\u001b[0m\u001b[0;34m\u001b[0m\u001b[0m\n\u001b[0;32m--> 101\u001b[0;31m         \u001b[0;32mraise\u001b[0m \u001b[0mOptionError\u001b[0m\u001b[0;34m(\u001b[0m\u001b[0;34mf\"No such keys(s): {repr(pat)}\"\u001b[0m\u001b[0;34m)\u001b[0m\u001b[0;34m\u001b[0m\u001b[0;34m\u001b[0m\u001b[0m\n\u001b[0m\u001b[1;32m    102\u001b[0m     \u001b[0;32mif\u001b[0m \u001b[0mlen\u001b[0m\u001b[0;34m(\u001b[0m\u001b[0mkeys\u001b[0m\u001b[0;34m)\u001b[0m \u001b[0;34m>\u001b[0m \u001b[0;36m1\u001b[0m\u001b[0;34m:\u001b[0m\u001b[0;34m\u001b[0m\u001b[0;34m\u001b[0m\u001b[0m\n",
            "\u001b[0;31mOptionError\u001b[0m: \"No such keys(s): 'io.excel..writer'\"",
            "\nThe above exception was the direct cause of the following exception:\n",
            "\u001b[0;31mValueError\u001b[0m                                Traceback (most recent call last)",
            "\u001b[0;32m<ipython-input-64-5797945d8027>\u001b[0m in \u001b[0;36m<module>\u001b[0;34m()\u001b[0m\n\u001b[1;32m      1\u001b[0m \u001b[0;32mimport\u001b[0m \u001b[0mpandas\u001b[0m \u001b[0;32mas\u001b[0m \u001b[0mpd\u001b[0m\u001b[0;34m\u001b[0m\u001b[0;34m\u001b[0m\u001b[0m\n\u001b[0;32m----> 2\u001b[0;31m \u001b[0mwriter\u001b[0m \u001b[0;34m=\u001b[0m \u001b[0mpd\u001b[0m\u001b[0;34m.\u001b[0m\u001b[0mExcelWriter\u001b[0m\u001b[0;34m(\u001b[0m\u001b[0;34m'TrimmedDataSet'\u001b[0m\u001b[0;34m)\u001b[0m\u001b[0;34m\u001b[0m\u001b[0;34m\u001b[0m\u001b[0m\n\u001b[0m\u001b[1;32m      3\u001b[0m \u001b[0mdf\u001b[0m\u001b[0;34m.\u001b[0m\u001b[0mto_excel\u001b[0m\u001b[0;34m(\u001b[0m\u001b[0mwriter\u001b[0m\u001b[0;34m,\u001b[0m \u001b[0;34m'DataFrame'\u001b[0m\u001b[0;34m)\u001b[0m\u001b[0;34m\u001b[0m\u001b[0;34m\u001b[0m\u001b[0m\n\u001b[1;32m      4\u001b[0m \u001b[0mwriter\u001b[0m\u001b[0;34m.\u001b[0m\u001b[0msave\u001b[0m\u001b[0;34m(\u001b[0m\u001b[0;34m)\u001b[0m\u001b[0;34m\u001b[0m\u001b[0;34m\u001b[0m\u001b[0m\n",
            "\u001b[0;32m/usr/local/lib/python3.7/dist-packages/pandas/io/excel/_base.py\u001b[0m in \u001b[0;36m__new__\u001b[0;34m(cls, path, engine, date_format, datetime_format, mode, storage_options, if_sheet_exists, engine_kwargs, **kwargs)\u001b[0m\n\u001b[1;32m    829\u001b[0m                         \u001b[0mengine\u001b[0m \u001b[0;34m=\u001b[0m \u001b[0mget_default_engine\u001b[0m\u001b[0;34m(\u001b[0m\u001b[0mext\u001b[0m\u001b[0;34m,\u001b[0m \u001b[0mmode\u001b[0m\u001b[0;34m=\u001b[0m\u001b[0;34m\"writer\"\u001b[0m\u001b[0;34m)\u001b[0m\u001b[0;34m\u001b[0m\u001b[0;34m\u001b[0m\u001b[0m\n\u001b[1;32m    830\u001b[0m                 \u001b[0;32mexcept\u001b[0m \u001b[0mKeyError\u001b[0m \u001b[0;32mas\u001b[0m \u001b[0merr\u001b[0m\u001b[0;34m:\u001b[0m\u001b[0;34m\u001b[0m\u001b[0;34m\u001b[0m\u001b[0m\n\u001b[0;32m--> 831\u001b[0;31m                     \u001b[0;32mraise\u001b[0m \u001b[0mValueError\u001b[0m\u001b[0;34m(\u001b[0m\u001b[0;34mf\"No engine for filetype: '{ext}'\"\u001b[0m\u001b[0;34m)\u001b[0m \u001b[0;32mfrom\u001b[0m \u001b[0merr\u001b[0m\u001b[0;34m\u001b[0m\u001b[0;34m\u001b[0m\u001b[0m\n\u001b[0m\u001b[1;32m    832\u001b[0m \u001b[0;34m\u001b[0m\u001b[0m\n\u001b[1;32m    833\u001b[0m             \u001b[0;32mif\u001b[0m \u001b[0mengine\u001b[0m \u001b[0;34m==\u001b[0m \u001b[0;34m\"xlwt\"\u001b[0m\u001b[0;34m:\u001b[0m\u001b[0;34m\u001b[0m\u001b[0;34m\u001b[0m\u001b[0m\n",
            "\u001b[0;31mValueError\u001b[0m: No engine for filetype: ''"
          ]
        }
      ]
    },
    {
      "cell_type": "code",
      "source": [
        "import pandas as pd\n",
        "lungdata = pd.read_csv('TrimmedDataSetforTeamProject.csv', names=['ID',\t'LungCA',\t'Gender',\t'age',\t'age_group'])\n",
        "                       \n",
        "print(lungdata.head())"
      ],
      "metadata": {
        "id": "afqT2O2ZkjEF",
        "colab": {
          "base_uri": "https://localhost:8080/",
          "height": 381
        },
        "outputId": "11714926-9db2-4dd6-af79-3c0808f12a6f"
      },
      "execution_count": 65,
      "outputs": [
        {
          "output_type": "error",
          "ename": "FileNotFoundError",
          "evalue": "ignored",
          "traceback": [
            "\u001b[0;31m---------------------------------------------------------------------------\u001b[0m",
            "\u001b[0;31mFileNotFoundError\u001b[0m                         Traceback (most recent call last)",
            "\u001b[0;32m<ipython-input-65-f35b65376428>\u001b[0m in \u001b[0;36m<module>\u001b[0;34m()\u001b[0m\n\u001b[1;32m      1\u001b[0m \u001b[0;32mimport\u001b[0m \u001b[0mpandas\u001b[0m \u001b[0;32mas\u001b[0m \u001b[0mpd\u001b[0m\u001b[0;34m\u001b[0m\u001b[0;34m\u001b[0m\u001b[0m\n\u001b[0;32m----> 2\u001b[0;31m \u001b[0mlungdata\u001b[0m \u001b[0;34m=\u001b[0m \u001b[0mpd\u001b[0m\u001b[0;34m.\u001b[0m\u001b[0mread_csv\u001b[0m\u001b[0;34m(\u001b[0m\u001b[0;34m'TrimmedDataSetforTeamProject.csv'\u001b[0m\u001b[0;34m,\u001b[0m \u001b[0mnames\u001b[0m\u001b[0;34m=\u001b[0m\u001b[0;34m[\u001b[0m\u001b[0;34m'ID'\u001b[0m\u001b[0;34m,\u001b[0m \u001b[0;34m'LungCA'\u001b[0m\u001b[0;34m,\u001b[0m       \u001b[0;34m'Gender'\u001b[0m\u001b[0;34m,\u001b[0m       \u001b[0;34m'age'\u001b[0m\u001b[0;34m,\u001b[0m  \u001b[0;34m'age_group'\u001b[0m\u001b[0;34m]\u001b[0m\u001b[0;34m)\u001b[0m\u001b[0;34m\u001b[0m\u001b[0;34m\u001b[0m\u001b[0m\n\u001b[0m\u001b[1;32m      3\u001b[0m \u001b[0;34m\u001b[0m\u001b[0m\n\u001b[1;32m      4\u001b[0m \u001b[0mprint\u001b[0m\u001b[0;34m(\u001b[0m\u001b[0mlungdata\u001b[0m\u001b[0;34m.\u001b[0m\u001b[0mhead\u001b[0m\u001b[0;34m(\u001b[0m\u001b[0;34m)\u001b[0m\u001b[0;34m)\u001b[0m\u001b[0;34m\u001b[0m\u001b[0;34m\u001b[0m\u001b[0m\n",
            "\u001b[0;32m/usr/local/lib/python3.7/dist-packages/pandas/util/_decorators.py\u001b[0m in \u001b[0;36mwrapper\u001b[0;34m(*args, **kwargs)\u001b[0m\n\u001b[1;32m    309\u001b[0m                     \u001b[0mstacklevel\u001b[0m\u001b[0;34m=\u001b[0m\u001b[0mstacklevel\u001b[0m\u001b[0;34m,\u001b[0m\u001b[0;34m\u001b[0m\u001b[0;34m\u001b[0m\u001b[0m\n\u001b[1;32m    310\u001b[0m                 )\n\u001b[0;32m--> 311\u001b[0;31m             \u001b[0;32mreturn\u001b[0m \u001b[0mfunc\u001b[0m\u001b[0;34m(\u001b[0m\u001b[0;34m*\u001b[0m\u001b[0margs\u001b[0m\u001b[0;34m,\u001b[0m \u001b[0;34m**\u001b[0m\u001b[0mkwargs\u001b[0m\u001b[0;34m)\u001b[0m\u001b[0;34m\u001b[0m\u001b[0;34m\u001b[0m\u001b[0m\n\u001b[0m\u001b[1;32m    312\u001b[0m \u001b[0;34m\u001b[0m\u001b[0m\n\u001b[1;32m    313\u001b[0m         \u001b[0;32mreturn\u001b[0m \u001b[0mwrapper\u001b[0m\u001b[0;34m\u001b[0m\u001b[0;34m\u001b[0m\u001b[0m\n",
            "\u001b[0;32m/usr/local/lib/python3.7/dist-packages/pandas/io/parsers/readers.py\u001b[0m in \u001b[0;36mread_csv\u001b[0;34m(filepath_or_buffer, sep, delimiter, header, names, index_col, usecols, squeeze, prefix, mangle_dupe_cols, dtype, engine, converters, true_values, false_values, skipinitialspace, skiprows, skipfooter, nrows, na_values, keep_default_na, na_filter, verbose, skip_blank_lines, parse_dates, infer_datetime_format, keep_date_col, date_parser, dayfirst, cache_dates, iterator, chunksize, compression, thousands, decimal, lineterminator, quotechar, quoting, doublequote, escapechar, comment, encoding, encoding_errors, dialect, error_bad_lines, warn_bad_lines, on_bad_lines, delim_whitespace, low_memory, memory_map, float_precision, storage_options)\u001b[0m\n\u001b[1;32m    584\u001b[0m     \u001b[0mkwds\u001b[0m\u001b[0;34m.\u001b[0m\u001b[0mupdate\u001b[0m\u001b[0;34m(\u001b[0m\u001b[0mkwds_defaults\u001b[0m\u001b[0;34m)\u001b[0m\u001b[0;34m\u001b[0m\u001b[0;34m\u001b[0m\u001b[0m\n\u001b[1;32m    585\u001b[0m \u001b[0;34m\u001b[0m\u001b[0m\n\u001b[0;32m--> 586\u001b[0;31m     \u001b[0;32mreturn\u001b[0m \u001b[0m_read\u001b[0m\u001b[0;34m(\u001b[0m\u001b[0mfilepath_or_buffer\u001b[0m\u001b[0;34m,\u001b[0m \u001b[0mkwds\u001b[0m\u001b[0;34m)\u001b[0m\u001b[0;34m\u001b[0m\u001b[0;34m\u001b[0m\u001b[0m\n\u001b[0m\u001b[1;32m    587\u001b[0m \u001b[0;34m\u001b[0m\u001b[0m\n\u001b[1;32m    588\u001b[0m \u001b[0;34m\u001b[0m\u001b[0m\n",
            "\u001b[0;32m/usr/local/lib/python3.7/dist-packages/pandas/io/parsers/readers.py\u001b[0m in \u001b[0;36m_read\u001b[0;34m(filepath_or_buffer, kwds)\u001b[0m\n\u001b[1;32m    480\u001b[0m \u001b[0;34m\u001b[0m\u001b[0m\n\u001b[1;32m    481\u001b[0m     \u001b[0;31m# Create the parser.\u001b[0m\u001b[0;34m\u001b[0m\u001b[0;34m\u001b[0m\u001b[0;34m\u001b[0m\u001b[0m\n\u001b[0;32m--> 482\u001b[0;31m     \u001b[0mparser\u001b[0m \u001b[0;34m=\u001b[0m \u001b[0mTextFileReader\u001b[0m\u001b[0;34m(\u001b[0m\u001b[0mfilepath_or_buffer\u001b[0m\u001b[0;34m,\u001b[0m \u001b[0;34m**\u001b[0m\u001b[0mkwds\u001b[0m\u001b[0;34m)\u001b[0m\u001b[0;34m\u001b[0m\u001b[0;34m\u001b[0m\u001b[0m\n\u001b[0m\u001b[1;32m    483\u001b[0m \u001b[0;34m\u001b[0m\u001b[0m\n\u001b[1;32m    484\u001b[0m     \u001b[0;32mif\u001b[0m \u001b[0mchunksize\u001b[0m \u001b[0;32mor\u001b[0m \u001b[0miterator\u001b[0m\u001b[0;34m:\u001b[0m\u001b[0;34m\u001b[0m\u001b[0;34m\u001b[0m\u001b[0m\n",
            "\u001b[0;32m/usr/local/lib/python3.7/dist-packages/pandas/io/parsers/readers.py\u001b[0m in \u001b[0;36m__init__\u001b[0;34m(self, f, engine, **kwds)\u001b[0m\n\u001b[1;32m    809\u001b[0m             \u001b[0mself\u001b[0m\u001b[0;34m.\u001b[0m\u001b[0moptions\u001b[0m\u001b[0;34m[\u001b[0m\u001b[0;34m\"has_index_names\"\u001b[0m\u001b[0;34m]\u001b[0m \u001b[0;34m=\u001b[0m \u001b[0mkwds\u001b[0m\u001b[0;34m[\u001b[0m\u001b[0;34m\"has_index_names\"\u001b[0m\u001b[0;34m]\u001b[0m\u001b[0;34m\u001b[0m\u001b[0;34m\u001b[0m\u001b[0m\n\u001b[1;32m    810\u001b[0m \u001b[0;34m\u001b[0m\u001b[0m\n\u001b[0;32m--> 811\u001b[0;31m         \u001b[0mself\u001b[0m\u001b[0;34m.\u001b[0m\u001b[0m_engine\u001b[0m \u001b[0;34m=\u001b[0m \u001b[0mself\u001b[0m\u001b[0;34m.\u001b[0m\u001b[0m_make_engine\u001b[0m\u001b[0;34m(\u001b[0m\u001b[0mself\u001b[0m\u001b[0;34m.\u001b[0m\u001b[0mengine\u001b[0m\u001b[0;34m)\u001b[0m\u001b[0;34m\u001b[0m\u001b[0;34m\u001b[0m\u001b[0m\n\u001b[0m\u001b[1;32m    812\u001b[0m \u001b[0;34m\u001b[0m\u001b[0m\n\u001b[1;32m    813\u001b[0m     \u001b[0;32mdef\u001b[0m \u001b[0mclose\u001b[0m\u001b[0;34m(\u001b[0m\u001b[0mself\u001b[0m\u001b[0;34m)\u001b[0m\u001b[0;34m:\u001b[0m\u001b[0;34m\u001b[0m\u001b[0;34m\u001b[0m\u001b[0m\n",
            "\u001b[0;32m/usr/local/lib/python3.7/dist-packages/pandas/io/parsers/readers.py\u001b[0m in \u001b[0;36m_make_engine\u001b[0;34m(self, engine)\u001b[0m\n\u001b[1;32m   1038\u001b[0m             )\n\u001b[1;32m   1039\u001b[0m         \u001b[0;31m# error: Too many arguments for \"ParserBase\"\u001b[0m\u001b[0;34m\u001b[0m\u001b[0;34m\u001b[0m\u001b[0;34m\u001b[0m\u001b[0m\n\u001b[0;32m-> 1040\u001b[0;31m         \u001b[0;32mreturn\u001b[0m \u001b[0mmapping\u001b[0m\u001b[0;34m[\u001b[0m\u001b[0mengine\u001b[0m\u001b[0;34m]\u001b[0m\u001b[0;34m(\u001b[0m\u001b[0mself\u001b[0m\u001b[0;34m.\u001b[0m\u001b[0mf\u001b[0m\u001b[0;34m,\u001b[0m \u001b[0;34m**\u001b[0m\u001b[0mself\u001b[0m\u001b[0;34m.\u001b[0m\u001b[0moptions\u001b[0m\u001b[0;34m)\u001b[0m  \u001b[0;31m# type: ignore[call-arg]\u001b[0m\u001b[0;34m\u001b[0m\u001b[0;34m\u001b[0m\u001b[0m\n\u001b[0m\u001b[1;32m   1041\u001b[0m \u001b[0;34m\u001b[0m\u001b[0m\n\u001b[1;32m   1042\u001b[0m     \u001b[0;32mdef\u001b[0m \u001b[0m_failover_to_python\u001b[0m\u001b[0;34m(\u001b[0m\u001b[0mself\u001b[0m\u001b[0;34m)\u001b[0m\u001b[0;34m:\u001b[0m\u001b[0;34m\u001b[0m\u001b[0;34m\u001b[0m\u001b[0m\n",
            "\u001b[0;32m/usr/local/lib/python3.7/dist-packages/pandas/io/parsers/c_parser_wrapper.py\u001b[0m in \u001b[0;36m__init__\u001b[0;34m(self, src, **kwds)\u001b[0m\n\u001b[1;32m     49\u001b[0m \u001b[0;34m\u001b[0m\u001b[0m\n\u001b[1;32m     50\u001b[0m         \u001b[0;31m# open handles\u001b[0m\u001b[0;34m\u001b[0m\u001b[0;34m\u001b[0m\u001b[0;34m\u001b[0m\u001b[0m\n\u001b[0;32m---> 51\u001b[0;31m         \u001b[0mself\u001b[0m\u001b[0;34m.\u001b[0m\u001b[0m_open_handles\u001b[0m\u001b[0;34m(\u001b[0m\u001b[0msrc\u001b[0m\u001b[0;34m,\u001b[0m \u001b[0mkwds\u001b[0m\u001b[0;34m)\u001b[0m\u001b[0;34m\u001b[0m\u001b[0;34m\u001b[0m\u001b[0m\n\u001b[0m\u001b[1;32m     52\u001b[0m         \u001b[0;32massert\u001b[0m \u001b[0mself\u001b[0m\u001b[0;34m.\u001b[0m\u001b[0mhandles\u001b[0m \u001b[0;32mis\u001b[0m \u001b[0;32mnot\u001b[0m \u001b[0;32mNone\u001b[0m\u001b[0;34m\u001b[0m\u001b[0;34m\u001b[0m\u001b[0m\n\u001b[1;32m     53\u001b[0m \u001b[0;34m\u001b[0m\u001b[0m\n",
            "\u001b[0;32m/usr/local/lib/python3.7/dist-packages/pandas/io/parsers/base_parser.py\u001b[0m in \u001b[0;36m_open_handles\u001b[0;34m(self, src, kwds)\u001b[0m\n\u001b[1;32m    227\u001b[0m             \u001b[0mmemory_map\u001b[0m\u001b[0;34m=\u001b[0m\u001b[0mkwds\u001b[0m\u001b[0;34m.\u001b[0m\u001b[0mget\u001b[0m\u001b[0;34m(\u001b[0m\u001b[0;34m\"memory_map\"\u001b[0m\u001b[0;34m,\u001b[0m \u001b[0;32mFalse\u001b[0m\u001b[0;34m)\u001b[0m\u001b[0;34m,\u001b[0m\u001b[0;34m\u001b[0m\u001b[0;34m\u001b[0m\u001b[0m\n\u001b[1;32m    228\u001b[0m             \u001b[0mstorage_options\u001b[0m\u001b[0;34m=\u001b[0m\u001b[0mkwds\u001b[0m\u001b[0;34m.\u001b[0m\u001b[0mget\u001b[0m\u001b[0;34m(\u001b[0m\u001b[0;34m\"storage_options\"\u001b[0m\u001b[0;34m,\u001b[0m \u001b[0;32mNone\u001b[0m\u001b[0;34m)\u001b[0m\u001b[0;34m,\u001b[0m\u001b[0;34m\u001b[0m\u001b[0;34m\u001b[0m\u001b[0m\n\u001b[0;32m--> 229\u001b[0;31m             \u001b[0merrors\u001b[0m\u001b[0;34m=\u001b[0m\u001b[0mkwds\u001b[0m\u001b[0;34m.\u001b[0m\u001b[0mget\u001b[0m\u001b[0;34m(\u001b[0m\u001b[0;34m\"encoding_errors\"\u001b[0m\u001b[0;34m,\u001b[0m \u001b[0;34m\"strict\"\u001b[0m\u001b[0;34m)\u001b[0m\u001b[0;34m,\u001b[0m\u001b[0;34m\u001b[0m\u001b[0;34m\u001b[0m\u001b[0m\n\u001b[0m\u001b[1;32m    230\u001b[0m         )\n\u001b[1;32m    231\u001b[0m \u001b[0;34m\u001b[0m\u001b[0m\n",
            "\u001b[0;32m/usr/local/lib/python3.7/dist-packages/pandas/io/common.py\u001b[0m in \u001b[0;36mget_handle\u001b[0;34m(path_or_buf, mode, encoding, compression, memory_map, is_text, errors, storage_options)\u001b[0m\n\u001b[1;32m    705\u001b[0m                 \u001b[0mencoding\u001b[0m\u001b[0;34m=\u001b[0m\u001b[0mioargs\u001b[0m\u001b[0;34m.\u001b[0m\u001b[0mencoding\u001b[0m\u001b[0;34m,\u001b[0m\u001b[0;34m\u001b[0m\u001b[0;34m\u001b[0m\u001b[0m\n\u001b[1;32m    706\u001b[0m                 \u001b[0merrors\u001b[0m\u001b[0;34m=\u001b[0m\u001b[0merrors\u001b[0m\u001b[0;34m,\u001b[0m\u001b[0;34m\u001b[0m\u001b[0;34m\u001b[0m\u001b[0m\n\u001b[0;32m--> 707\u001b[0;31m                 \u001b[0mnewline\u001b[0m\u001b[0;34m=\u001b[0m\u001b[0;34m\"\"\u001b[0m\u001b[0;34m,\u001b[0m\u001b[0;34m\u001b[0m\u001b[0;34m\u001b[0m\u001b[0m\n\u001b[0m\u001b[1;32m    708\u001b[0m             )\n\u001b[1;32m    709\u001b[0m         \u001b[0;32melse\u001b[0m\u001b[0;34m:\u001b[0m\u001b[0;34m\u001b[0m\u001b[0;34m\u001b[0m\u001b[0m\n",
            "\u001b[0;31mFileNotFoundError\u001b[0m: [Errno 2] No such file or directory: 'TrimmedDataSetforTeamProject.csv'"
          ]
        }
      ]
    },
    {
      "cell_type": "code",
      "source": [
        "pip install matplotlib\n"
      ],
      "metadata": {
        "colab": {
          "base_uri": "https://localhost:8080/"
        },
        "id": "-4idHNkglv3B",
        "outputId": "aba8d33b-fd82-4ee4-9c88-a765cbd49621"
      },
      "execution_count": 66,
      "outputs": [
        {
          "output_type": "stream",
          "name": "stdout",
          "text": [
            "Looking in indexes: https://pypi.org/simple, https://us-python.pkg.dev/colab-wheels/public/simple/\n",
            "Requirement already satisfied: matplotlib in /usr/local/lib/python3.7/dist-packages (3.2.2)\n",
            "Requirement already satisfied: kiwisolver>=1.0.1 in /usr/local/lib/python3.7/dist-packages (from matplotlib) (1.4.4)\n",
            "Requirement already satisfied: numpy>=1.11 in /usr/local/lib/python3.7/dist-packages (from matplotlib) (1.21.6)\n",
            "Requirement already satisfied: python-dateutil>=2.1 in /usr/local/lib/python3.7/dist-packages (from matplotlib) (2.8.2)\n",
            "Requirement already satisfied: cycler>=0.10 in /usr/local/lib/python3.7/dist-packages (from matplotlib) (0.11.0)\n",
            "Requirement already satisfied: pyparsing!=2.0.4,!=2.1.2,!=2.1.6,>=2.0.1 in /usr/local/lib/python3.7/dist-packages (from matplotlib) (3.0.9)\n",
            "Requirement already satisfied: typing-extensions in /usr/local/lib/python3.7/dist-packages (from kiwisolver>=1.0.1->matplotlib) (4.1.1)\n",
            "Requirement already satisfied: six>=1.5 in /usr/local/lib/python3.7/dist-packages (from python-dateutil>=2.1->matplotlib) (1.15.0)\n"
          ]
        }
      ]
    },
    {
      "cell_type": "markdown",
      "source": [
        "5b data visualization\n"
      ],
      "metadata": {
        "id": "EXxqxZFcwKM0"
      }
    },
    {
      "cell_type": "code",
      "source": [
        "#data mount \n",
        "import os\n",
        "from google.colab import drive\n",
        "drive.mount('/content/drive/')\n",
        "os.chdir(\"/content/drive/My Drive/FAES_BIOF309/\")"
      ],
      "metadata": {
        "colab": {
          "base_uri": "https://localhost:8080/"
        },
        "id": "ks9GQvr8wM42",
        "outputId": "4071c663-eab0-484a-8f82-27c63226a078"
      },
      "execution_count": 67,
      "outputs": [
        {
          "output_type": "stream",
          "name": "stdout",
          "text": [
            "Drive already mounted at /content/drive/; to attempt to forcibly remount, call drive.mount(\"/content/drive/\", force_remount=True).\n"
          ]
        }
      ]
    },
    {
      "cell_type": "code",
      "source": [
        "pip install git+https://github.com/mwaskom/seaborn.git "
      ],
      "metadata": {
        "colab": {
          "base_uri": "https://localhost:8080/"
        },
        "id": "IW6wklsJ11SD",
        "outputId": "8cd75f54-4ccf-402c-c03e-71b0e1a59a8c"
      },
      "execution_count": 68,
      "outputs": [
        {
          "output_type": "stream",
          "name": "stdout",
          "text": [
            "Looking in indexes: https://pypi.org/simple, https://us-python.pkg.dev/colab-wheels/public/simple/\n",
            "Collecting git+https://github.com/mwaskom/seaborn.git\n",
            "  Cloning https://github.com/mwaskom/seaborn.git to /tmp/pip-req-build-_5y4ykne\n",
            "  Running command git clone -q https://github.com/mwaskom/seaborn.git /tmp/pip-req-build-_5y4ykne\n",
            "Requirement already satisfied: numpy>=1.17 in /usr/local/lib/python3.7/dist-packages (from seaborn==0.12.0.dev0) (1.21.6)\n",
            "Requirement already satisfied: pandas>=0.25 in /usr/local/lib/python3.7/dist-packages (from seaborn==0.12.0.dev0) (1.3.5)\n",
            "Requirement already satisfied: matplotlib>=3.1 in /usr/local/lib/python3.7/dist-packages (from seaborn==0.12.0.dev0) (3.2.2)\n",
            "Requirement already satisfied: typing_extensions in /usr/local/lib/python3.7/dist-packages (from seaborn==0.12.0.dev0) (4.1.1)\n",
            "Requirement already satisfied: pyparsing!=2.0.4,!=2.1.2,!=2.1.6,>=2.0.1 in /usr/local/lib/python3.7/dist-packages (from matplotlib>=3.1->seaborn==0.12.0.dev0) (3.0.9)\n",
            "Requirement already satisfied: cycler>=0.10 in /usr/local/lib/python3.7/dist-packages (from matplotlib>=3.1->seaborn==0.12.0.dev0) (0.11.0)\n",
            "Requirement already satisfied: kiwisolver>=1.0.1 in /usr/local/lib/python3.7/dist-packages (from matplotlib>=3.1->seaborn==0.12.0.dev0) (1.4.4)\n",
            "Requirement already satisfied: python-dateutil>=2.1 in /usr/local/lib/python3.7/dist-packages (from matplotlib>=3.1->seaborn==0.12.0.dev0) (2.8.2)\n",
            "Requirement already satisfied: pytz>=2017.3 in /usr/local/lib/python3.7/dist-packages (from pandas>=0.25->seaborn==0.12.0.dev0) (2022.1)\n",
            "Requirement already satisfied: six>=1.5 in /usr/local/lib/python3.7/dist-packages (from python-dateutil>=2.1->matplotlib>=3.1->seaborn==0.12.0.dev0) (1.15.0)\n",
            "Building wheels for collected packages: seaborn\n",
            "  Building wheel for seaborn (setup.py) ... \u001b[?25l\u001b[?25hdone\n",
            "  Created wheel for seaborn: filename=seaborn-0.12.0.dev0-py3-none-any.whl size=280427 sha256=ba75ff1cb9ecb192853627465252b2f820430ba9f562eb82dd8924ba103b8db3\n",
            "  Stored in directory: /tmp/pip-ephem-wheel-cache-ctch3yv9/wheels/47/63/2c/40c10be50a3d4e015635e8ea08d1ea1124c845fdd50b3f02b8\n",
            "Successfully built seaborn\n",
            "Installing collected packages: seaborn\n",
            "  Attempting uninstall: seaborn\n",
            "    Found existing installation: seaborn 0.11.2\n",
            "    Uninstalling seaborn-0.11.2:\n",
            "      Successfully uninstalled seaborn-0.11.2\n",
            "Successfully installed seaborn-0.12.0.dev0\n"
          ]
        }
      ]
    },
    {
      "cell_type": "code",
      "source": [
        "pip install git+https://github.com/hcpy/lungcancer.git"
      ],
      "metadata": {
        "colab": {
          "base_uri": "https://localhost:8080/"
        },
        "id": "U36t2dqo1-yE",
        "outputId": "c6e5918d-3d58-4b7d-ed90-2d81e0ee8a14"
      },
      "execution_count": 70,
      "outputs": [
        {
          "output_type": "stream",
          "name": "stdout",
          "text": [
            "Looking in indexes: https://pypi.org/simple, https://us-python.pkg.dev/colab-wheels/public/simple/\n",
            "Collecting git+https://github.com/hcpy/lungcancer.git\n",
            "  Cloning https://github.com/hcpy/lungcancer.git to /tmp/pip-req-build-b4bkt18p\n",
            "  Running command git clone -q https://github.com/hcpy/lungcancer.git /tmp/pip-req-build-b4bkt18p\n",
            "\u001b[31mERROR: File \"setup.py\" not found for legacy project git+https://github.com/hcpy/lungcancer.git.\u001b[0m\n"
          ]
        }
      ]
    },
    {
      "cell_type": "markdown",
      "source": [
        ""
      ],
      "metadata": {
        "id": "AWtvjvqpwT_z"
      }
    },
    {
      "cell_type": "markdown",
      "source": [
        "#6 Cynthia"
      ],
      "metadata": {
        "id": "tCfwkLud3HnP"
      }
    },
    {
      "cell_type": "code",
      "source": [
        "#6 Cynthia"
      ],
      "metadata": {
        "id": "JYa-wAAjJXHU"
      },
      "execution_count": null,
      "outputs": []
    }
  ]
}
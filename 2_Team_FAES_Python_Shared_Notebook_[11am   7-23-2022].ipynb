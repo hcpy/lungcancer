{
  "nbformat": 4,
  "nbformat_minor": 0,
  "metadata": {
    "colab": {
      "name": "2 Team FAES Python Shared Notebook [current one].ipynb",
      "provenance": [],
      "collapsed_sections": [],
      "include_colab_link": true
    },
    "kernelspec": {
      "name": "python3",
      "display_name": "Python 3"
    },
    "language_info": {
      "name": "python"
    }
  },
  "cells": [
    {
      "cell_type": "markdown",
      "metadata": {
        "id": "view-in-github",
        "colab_type": "text"
      },
      "source": [
        "<a href=\"https://colab.research.google.com/github/hcpy/lungcancer/blob/main/2_Team_FAES_Python_Shared_Notebook_%5B11am%20%20%207-23-2022%5D.ipynb\" target=\"_parent\"><img src=\"https://colab.research.google.com/assets/colab-badge.svg\" alt=\"Open In Colab\"/></a>"
      ]
    },
    {
      "cell_type": "markdown",
      "source": [
        "Remaining group members to write script for Cynthia to read"
      ],
      "metadata": {
        "id": "Y8rm7GTVJj00"
      }
    },
    {
      "cell_type": "code",
      "execution_count": null,
      "metadata": {
        "id": "vCfvAXuEJM7O"
      },
      "outputs": [],
      "source": [
        "#1 Cynthia 2. Hyun 3. Santi 4. Santi 5. Hyun 6. Cynthia\n",
        " \n"
      ]
    },
    {
      "cell_type": "markdown",
      "source": [
        "Github upload from Cynthia's cleaned data\n",
        "https://github.com/hcpy/lungcancer/blob/main/Trimmed%20Data%20Set%20for%20Team%20Project.csv\n",
        "\n",
        "# Data link\n",
        "# https://figshare.com/articles/dataset/Pesticide_and_lung_cancer/12356270?file=26424602\n",
        "\n",
        "\n",
        "\n",
        "#What is the likelihood of getting lung cancer from a) smoking b) pesticides c) both\n",
        "\n",
        "\n",
        "\n",
        "\n",
        "Other group members: write script for Cynthia to read for the video recording\n"
      ],
      "metadata": {
        "id": "B0xiA7wtrimu"
      }
    },
    {
      "cell_type": "markdown",
      "source": [
        "#1 Cynthia"
      ],
      "metadata": {
        "id": "QP9iRU8CalTW"
      }
    },
    {
      "cell_type": "code",
      "source": [
        "#1 Cynthia\n",
        "#Set the data sets to a value or arguement, examine the data sets and combine them.\n",
        "! ls -lsth /content/Team2/"
      ],
      "metadata": {
        "id": "iaaTphthJnps",
        "colab": {
          "base_uri": "https://localhost:8080/"
        },
        "outputId": "62be033d-b6ab-4a1f-a000-8eb14255ebff"
      },
      "execution_count": null,
      "outputs": [
        {
          "output_type": "stream",
          "name": "stdout",
          "text": [
            "total 32K\n",
            "16K -rw-r--r-- 1 root root 15K Jul 22 20:06 Smoker.csv\n",
            "16K -rw-r--r-- 1 root root 15K Jul 22 19:56 Gephosate.csv\n"
          ]
        }
      ]
    },
    {
      "cell_type": "code",
      "source": [
        "! head Smoker.csv\n",
        "! head Gephosate.csv\n",
        "! tail Smoker.csv\n",
        "! tail Gephosate.csv\n",
        "\n"
      ],
      "metadata": {
        "colab": {
          "base_uri": "https://localhost:8080/"
        },
        "id": "0yhEyL4mtcYB",
        "outputId": "0e925dc4-e79f-4404-8482-edb08f95c859"
      },
      "execution_count": null,
      "outputs": [
        {
          "output_type": "stream",
          "name": "stdout",
          "text": [
            "﻿ID,LungCA,Gender,age,age_group,status,CigSmoke1,Cigarette_total\r\n",
            "1,1,1,75,4,2,1,0\r\n",
            "1.1,0,1,70,3,2,1,0\r\n",
            "1.2,0,1,72,3,2,1,0\r\n",
            "2,1,0,58,2,2,0,246375\r\n",
            "2.1,0,0,55,2,2,1,0\r\n",
            "2.2,0,0,62,2,2,1,0\r\n",
            "3,1,1,65,3,2,1,0\r\n",
            "3.1,0,1,60,2,2,1,0\r\n",
            "3.2,0,1,68,3,2,1,0\n",
            "﻿ID,LungCA,Gender,age,age_group,status,Glyphosate_use,Glyphosate_days\n",
            "1,1,1,75,4,2,0,0\n",
            "1.1,0,1,70,3,2,0,0\n",
            "1.2,0,1,72,3,2,0,0\n",
            "2,1,0,58,2,2,0,0\n",
            "2.1,0,0,55,2,2,1,160\n",
            "2.2,0,0,62,2,2,0,0\n",
            "3,1,1,65,3,2,0,0\n",
            "3.1,0,1,60,2,2,0,0\n",
            "3.2,0,1,68,3,2,0,0\n"
          ]
        }
      ]
    },
    {
      "cell_type": "code",
      "source": [
        "! cut -f 8 -d ',' /content/Team2/Smoker.csv > Cigarette_total.txt\n",
        "! head Cigarette_total.txt"
      ],
      "metadata": {
        "colab": {
          "base_uri": "https://localhost:8080/"
        },
        "id": "8icWfuKRxYAD",
        "outputId": "297b5286-1904-4f78-e48f-c8a4ee9836cd"
      },
      "execution_count": null,
      "outputs": [
        {
          "output_type": "stream",
          "name": "stdout",
          "text": [
            "cut: /content/Team2/Smoker.csv: No such file or directory\n"
          ]
        }
      ]
    },
    {
      "cell_type": "code",
      "source": [
        "! cat Smoker.csv Gephosate.csv > Lung_Disease.csv"
      ],
      "metadata": {
        "id": "IpWvF-sNyk0f"
      },
      "execution_count": null,
      "outputs": []
    },
    {
      "cell_type": "markdown",
      "source": [
        "1. Hyun "
      ],
      "metadata": {
        "id": "VjaayZr9mYhH"
      }
    },
    {
      "cell_type": "markdown",
      "source": [
        "# #2 Hyun (indents and print string expressions) ***\n",
        "\n",
        " \n",
        "\n"
      ],
      "metadata": {
        "id": "id7zBVzpai41"
      }
    },
    {
      "cell_type": "markdown",
      "source": [
        "Script for Cynthia\n",
        "In Week 2, we learned using string expressions. \n"
      ],
      "metadata": {
        "id": "CzWpszw2F5bK"
      }
    },
    {
      "cell_type": "code",
      "source": [
        "#2 Hyun\n",
        "\n",
        "#data mount\n",
        "\n",
        "import os\n",
        "from google.colab import drive\n",
        "drive.mount('/content/drive/')\n",
        "os.chdir(\"/content/drive/My Drive/FAES_BIOF309\")\n",
        "\n",
        "print(\"Hello class! Let's examine data on lung cancer and pesticides\")  \n",
        "\n",
        "# Brackets\n",
        "print (\"There are variety of factors leading to cancer\")\n",
        "\n",
        "causes = ['genetics',\n",
        "          'SES',\n",
        "          'carcinogens']\n",
        "print(causes)\n",
        "\n",
        "\"\"\"Python is awesome for programming used in cancer research\"\"\"\n",
        " "
      ],
      "metadata": {
        "id": "s-sxCM02JTvr",
        "colab": {
          "base_uri": "https://localhost:8080/",
          "height": 104
        },
        "outputId": "c6cebd18-5640-4294-db1c-9a65c25ce1d5"
      },
      "execution_count": 120,
      "outputs": [
        {
          "output_type": "stream",
          "name": "stdout",
          "text": [
            "Drive already mounted at /content/drive/; to attempt to forcibly remount, call drive.mount(\"/content/drive/\", force_remount=True).\n",
            "Hello class! Let's examine data on lung cancer and pesticides\n",
            "There are variety of factors leading to cancer\n",
            "['genetics', 'SES', 'carcinogens']\n"
          ]
        },
        {
          "output_type": "execute_result",
          "data": {
            "text/plain": [
              "'Python is awesome for programming used in cancer research'"
            ],
            "application/vnd.google.colaboratory.intrinsic+json": {
              "type": "string"
            }
          },
          "metadata": {},
          "execution_count": 120
        }
      ]
    },
    {
      "cell_type": "code",
      "source": [
        "#4. An intro to multiple indents.\n",
        "for i in ['poor genetics', 'smoking', 'poverty']:\n",
        "  for j in ['raises your cancer risk', 'contributes to your health', 'bad']:\n",
        "    print(i + \" is \" + j)"
      ],
      "metadata": {
        "id": "zm3518jwE7Pr",
        "colab": {
          "base_uri": "https://localhost:8080/"
        },
        "outputId": "72435df2-6d6a-4e17-f482-62206c7122b7"
      },
      "execution_count": 121,
      "outputs": [
        {
          "output_type": "stream",
          "name": "stdout",
          "text": [
            "poor genetics is raises your cancer risk\n",
            "poor genetics is contributes to your health\n",
            "poor genetics is bad\n",
            "smoking is raises your cancer risk\n",
            "smoking is contributes to your health\n",
            "smoking is bad\n",
            "poverty is raises your cancer risk\n",
            "poverty is contributes to your health\n",
            "poverty is bad\n"
          ]
        }
      ]
    },
    {
      "cell_type": "code",
      "source": [
        "# looping through lists.\n",
        "\n",
        "print(\"What are the contributing factors to cancer?\")\n",
        "for i in causes:\n",
        "  print(i)"
      ],
      "metadata": {
        "colab": {
          "base_uri": "https://localhost:8080/"
        },
        "id": "vXm15z4KHQ_Q",
        "outputId": "1868994f-b2d5-4b55-d941-2b469b286b1d"
      },
      "execution_count": 122,
      "outputs": [
        {
          "output_type": "stream",
          "name": "stdout",
          "text": [
            "What are the contributing factors to cancer?\n",
            "genetics\n",
            "SES\n",
            "carcinogens\n"
          ]
        }
      ]
    },
    {
      "cell_type": "markdown",
      "source": [
        "2b: Python semantics."
      ],
      "metadata": {
        "id": "2481JOiU4Yc5"
      }
    },
    {
      "cell_type": "code",
      "source": [
        "#Explaining the data abbreviations with string expressions\n",
        "# LungCA\n",
        "print (\"The column LungCA examines Lung cancer status of responders: \")\n",
        "a = \"0 refer to control without lung cancer\"\n",
        "b= \"1 refer to case with lung cancer \"\n",
        "print(a)\n",
        "print(b)"
      ],
      "metadata": {
        "colab": {
          "base_uri": "https://localhost:8080/"
        },
        "id": "N2nulJll4ZEI",
        "outputId": "abfa0f91-6ed3-4741-838a-268b377095a5"
      },
      "execution_count": 123,
      "outputs": [
        {
          "output_type": "stream",
          "name": "stdout",
          "text": [
            "The column LungCA examines Lung cancer status of responders: \n",
            "0 refer to control without lung cancer\n",
            "1 refer to case with lung cancer \n"
          ]
        }
      ]
    },
    {
      "cell_type": "code",
      "source": [
        "print (\"How does Air_Pollution_ exposure raise risk of lung cancer development?\")\n",
        "for i in range(0,2):\n",
        "    print(i)\n",
        "\n",
        "print (\"0 refer to responders who did not exposure to air pollution.\")\n",
        "print (\"1 refer to responders who exposure to air pollution.\")\n"
      ],
      "metadata": {
        "colab": {
          "base_uri": "https://localhost:8080/"
        },
        "id": "sf5ciBtPL7fG",
        "outputId": "338431be-9e14-49fe-bcf8-3a023ee54d89"
      },
      "execution_count": 124,
      "outputs": [
        {
          "output_type": "stream",
          "name": "stdout",
          "text": [
            "How does Air_Pollution_ exposure raise risk of lung cancer development?\n",
            "0\n",
            "1\n",
            "0 refer to responders who did not exposure to air pollution.\n",
            "1 refer to responders who exposure to air pollution.\n"
          ]
        }
      ]
    },
    {
      "cell_type": "markdown",
      "source": [
        ""
      ],
      "metadata": {
        "id": "pWLfIz-ROgNK"
      }
    },
    {
      "cell_type": "code",
      "source": [
        "# 8. Combine strings and paste.\n",
        "a = \"Variable: Air Pollution explained \"\n",
        "b = \"0 refer to responders who did not exposure to air pollution.  \"\n",
        "c = \"1 refer to responders who exposure to air pollution.\"\n",
        "\n",
        "print (a  + b + c)"
      ],
      "metadata": {
        "colab": {
          "base_uri": "https://localhost:8080/"
        },
        "id": "uVHZdKLiuRjU",
        "outputId": "4a872dca-65e8-4e4b-9566-4baee9f8bbd9"
      },
      "execution_count": 125,
      "outputs": [
        {
          "output_type": "stream",
          "name": "stdout",
          "text": [
            "Variable: Air Pollution explained 0 refer to responders who did not exposure to air pollution.  1 refer to responders who exposure to air pollution.\n"
          ]
        }
      ]
    },
    {
      "cell_type": "code",
      "source": [
        "print (\"Responders’ exposure to air pollution from various sources, e.g. working in factory with air pollution (asbestos, diesel engine exhaust, silica, wood dust, painting and welding exposure), \")\n",
        "\n",
        "for i in ['asbestos', 'diesel', 'lead paint']:\n",
        "  for j in ['bad', 'carcinogenic', 'unpleasant']:\n",
        "    print(i + \" is \" + j)"
      ],
      "metadata": {
        "colab": {
          "base_uri": "https://localhost:8080/"
        },
        "id": "6ueHG2JIOlxs",
        "outputId": "2235d9de-cab0-4b1d-f6fa-db96d7bb4ad4"
      },
      "execution_count": 126,
      "outputs": [
        {
          "output_type": "stream",
          "name": "stdout",
          "text": [
            "Responders’ exposure to air pollution from various sources, e.g. working in factory with air pollution (asbestos, diesel engine exhaust, silica, wood dust, painting and welding exposure), \n",
            "asbestos is bad\n",
            "asbestos is carcinogenic\n",
            "asbestos is unpleasant\n",
            "diesel is bad\n",
            "diesel is carcinogenic\n",
            "diesel is unpleasant\n",
            "lead paint is bad\n",
            "lead paint is carcinogenic\n",
            "lead paint is unpleasant\n"
          ]
        }
      ]
    },
    {
      "cell_type": "markdown",
      "source": [
        ""
      ],
      "metadata": {
        "id": "peqdTt2oOlhg"
      }
    },
    {
      "cell_type": "markdown",
      "source": [
        "#3 Santiago"
      ],
      "metadata": {
        "id": "J4MXpum0Zo0u"
      }
    },
    {
      "cell_type": "code",
      "source": [
        "#3 Santiago"
      ],
      "metadata": {
        "id": "YdnXwY3AJUnb"
      },
      "execution_count": null,
      "outputs": []
    },
    {
      "cell_type": "markdown",
      "source": [
        "#4 Santiago"
      ],
      "metadata": {
        "id": "MttjThXS0-sX"
      }
    },
    {
      "cell_type": "code",
      "source": [
        "#4 Santiago"
      ],
      "metadata": {
        "id": "Ha68xOe8JVPs"
      },
      "execution_count": null,
      "outputs": []
    },
    {
      "cell_type": "markdown",
      "source": [
        ""
      ],
      "metadata": {
        "id": "f_skKMZ0aqhS"
      }
    },
    {
      "cell_type": "markdown",
      "source": [
        ""
      ],
      "metadata": {
        "id": "yIGXZjrB09IS"
      }
    },
    {
      "cell_type": "markdown",
      "source": [
        "#5 Hyun (5a: Numpy and Pandas)"
      ],
      "metadata": {
        "id": "tTLLco5BasY4"
      }
    },
    {
      "cell_type": "code",
      "source": [
        "#5 Hyun Instructional DEMO 5a: Numpy and Pandas\n",
        "import pandas as pd\n",
        "import numpy as np\n",
        "! pip install --upgrade tables\n",
        "\n",
        "#data mount\n",
        "\n",
        "import os\n",
        "from google.colab import drive\n",
        "drive.mount('/content/drive/')\n",
        "os.chdir(\"/content/drive/My Drive/FAES_BIOF309\")"
      ],
      "metadata": {
        "id": "9cZsiiKSJWQg",
        "colab": {
          "base_uri": "https://localhost:8080/"
        },
        "outputId": "97559913-f665-4237-fca6-e4ea2d1b8047"
      },
      "execution_count": null,
      "outputs": [
        {
          "output_type": "stream",
          "name": "stdout",
          "text": [
            "Looking in indexes: https://pypi.org/simple, https://us-python.pkg.dev/colab-wheels/public/simple/\n",
            "Requirement already satisfied: tables in /usr/local/lib/python3.7/dist-packages (3.7.0)\n",
            "Requirement already satisfied: packaging in /usr/local/lib/python3.7/dist-packages (from tables) (21.3)\n",
            "Requirement already satisfied: numexpr>=2.6.2 in /usr/local/lib/python3.7/dist-packages (from tables) (2.8.3)\n",
            "Requirement already satisfied: numpy>=1.19.0 in /usr/local/lib/python3.7/dist-packages (from tables) (1.21.6)\n",
            "Requirement already satisfied: pyparsing!=3.0.5,>=2.0.2 in /usr/local/lib/python3.7/dist-packages (from packaging->tables) (3.0.9)\n",
            "Drive already mounted at /content/drive/; to attempt to forcibly remount, call drive.mount(\"/content/drive/\", force_remount=True).\n"
          ]
        }
      ]
    },
    {
      "cell_type": "code",
      "source": [
        " !head (\"/content/My Drive/FAES_BIOF309/Project_data/TrimmedDataSet\")"
      ],
      "metadata": {
        "id": "ivvse_zQ2F-u"
      },
      "execution_count": null,
      "outputs": []
    },
    {
      "cell_type": "markdown",
      "source": [
        "5b: Data visualization"
      ],
      "metadata": {
        "id": "tS5tYCep4-Ik"
      }
    },
    {
      "cell_type": "code",
      "source": [
        "import os\n",
        "from google.colab import drive\n",
        "drive.mount('/content/drive/')\n",
        "os.chdir(\"/content/drive/My Drive/FAES_BIOF309/\")"
      ],
      "metadata": {
        "colab": {
          "base_uri": "https://localhost:8080/"
        },
        "id": "xJJwdrCB2nH-",
        "outputId": "d682b5cd-f159-4ff6-85dd-1181d9ae7931"
      },
      "execution_count": null,
      "outputs": [
        {
          "output_type": "stream",
          "name": "stdout",
          "text": [
            "Drive already mounted at /content/drive/; to attempt to forcibly remount, call drive.mount(\"/content/drive/\", force_remount=True).\n"
          ]
        }
      ]
    },
    {
      "cell_type": "code",
      "source": [
        "import pandas as pd\n",
        "import seaborn as sns\n",
        "import matplotlib as plt\n",
        "import numpy as np"
      ],
      "metadata": {
        "id": "x0TMrNVC5C_t"
      },
      "execution_count": null,
      "outputs": []
    },
    {
      "cell_type": "markdown",
      "source": [
        "Ask Prof. Why the csv file did not run\n",
        "https://github.com/hcpy/lungcancer/blob/main/Trimmed%20Data%20Set%20for%20Team%20Project.csv\n"
      ],
      "metadata": {
        "id": "kvJmihLP_QYY"
      }
    },
    {
      "cell_type": "code",
      "source": [
        "pip install git+https://github.com/hcpy/lungcancer.git\n",
        "age = sns.load_dataset(\"lungcancer\")\n",
        "  "
      ],
      "metadata": {
        "colab": {
          "base_uri": "https://localhost:8080/",
          "height": 132
        },
        "id": "7kjpRft25eQn",
        "outputId": "82b3adef-82ca-41b2-dee7-bb720fc3c374"
      },
      "execution_count": null,
      "outputs": [
        {
          "output_type": "error",
          "ename": "SyntaxError",
          "evalue": "ignored",
          "traceback": [
            "\u001b[0;36m  File \u001b[0;32m\"<ipython-input-65-5e0e8bf57089>\"\u001b[0;36m, line \u001b[0;32m1\u001b[0m\n\u001b[0;31m    pip install git+https://github.com/hcpy/lungcancer.git\u001b[0m\n\u001b[0m              ^\u001b[0m\n\u001b[0;31mSyntaxError\u001b[0m\u001b[0;31m:\u001b[0m invalid syntax\n"
          ]
        }
      ]
    },
    {
      "cell_type": "code",
      "source": [
        "projectdata = sns.load_dataset(\"Trimmed Data Set for Team Project.csv)"
      ],
      "metadata": {
        "colab": {
          "base_uri": "https://localhost:8080/",
          "height": 132
        },
        "id": "ZA6b8hAW8k-f",
        "outputId": "c1167236-1a26-4d0e-ab00-736534ee7a70"
      },
      "execution_count": null,
      "outputs": [
        {
          "output_type": "error",
          "ename": "SyntaxError",
          "evalue": "ignored",
          "traceback": [
            "\u001b[0;36m  File \u001b[0;32m\"<ipython-input-66-aa9cdb7ac374>\"\u001b[0;36m, line \u001b[0;32m1\u001b[0m\n\u001b[0;31m    projectdata = sns.load_dataset(\"Trimmed Data Set for Team Project.csv)\u001b[0m\n\u001b[0m                                                                          ^\u001b[0m\n\u001b[0;31mSyntaxError\u001b[0m\u001b[0;31m:\u001b[0m EOL while scanning string literal\n"
          ]
        }
      ]
    },
    {
      "cell_type": "code",
      "source": [
        "age = sns.load_dataset(\"age\")"
      ],
      "metadata": {
        "colab": {
          "base_uri": "https://localhost:8080/",
          "height": 288
        },
        "id": "gP_vVR1UB9IC",
        "outputId": "d5a72d5f-821b-45e8-86b8-23d7bd00cdbf"
      },
      "execution_count": null,
      "outputs": [
        {
          "output_type": "error",
          "ename": "ValueError",
          "evalue": "ignored",
          "traceback": [
            "\u001b[0;31m---------------------------------------------------------------------------\u001b[0m",
            "\u001b[0;31mValueError\u001b[0m                                Traceback (most recent call last)",
            "\u001b[0;32m<ipython-input-67-b8d06edced34>\u001b[0m in \u001b[0;36m<module>\u001b[0;34m()\u001b[0m\n\u001b[0;32m----> 1\u001b[0;31m \u001b[0mage\u001b[0m \u001b[0;34m=\u001b[0m \u001b[0msns\u001b[0m\u001b[0;34m.\u001b[0m\u001b[0mload_dataset\u001b[0m\u001b[0;34m(\u001b[0m\u001b[0;34m\"age\"\u001b[0m\u001b[0;34m)\u001b[0m\u001b[0;34m\u001b[0m\u001b[0;34m\u001b[0m\u001b[0m\n\u001b[0m",
            "\u001b[0;32m/usr/local/lib/python3.7/dist-packages/seaborn/utils.py\u001b[0m in \u001b[0;36mload_dataset\u001b[0;34m(name, cache, data_home, **kws)\u001b[0m\n\u001b[1;32m    593\u001b[0m         \u001b[0;32mif\u001b[0m \u001b[0;32mnot\u001b[0m \u001b[0mos\u001b[0m\u001b[0;34m.\u001b[0m\u001b[0mpath\u001b[0m\u001b[0;34m.\u001b[0m\u001b[0mexists\u001b[0m\u001b[0;34m(\u001b[0m\u001b[0mcache_path\u001b[0m\u001b[0;34m)\u001b[0m\u001b[0;34m:\u001b[0m\u001b[0;34m\u001b[0m\u001b[0;34m\u001b[0m\u001b[0m\n\u001b[1;32m    594\u001b[0m             \u001b[0;32mif\u001b[0m \u001b[0mname\u001b[0m \u001b[0;32mnot\u001b[0m \u001b[0;32min\u001b[0m \u001b[0mget_dataset_names\u001b[0m\u001b[0;34m(\u001b[0m\u001b[0;34m)\u001b[0m\u001b[0;34m:\u001b[0m\u001b[0;34m\u001b[0m\u001b[0;34m\u001b[0m\u001b[0m\n\u001b[0;32m--> 595\u001b[0;31m                 \u001b[0;32mraise\u001b[0m \u001b[0mValueError\u001b[0m\u001b[0;34m(\u001b[0m\u001b[0;34mf\"'{name}' is not one of the example datasets.\"\u001b[0m\u001b[0;34m)\u001b[0m\u001b[0;34m\u001b[0m\u001b[0;34m\u001b[0m\u001b[0m\n\u001b[0m\u001b[1;32m    596\u001b[0m             \u001b[0murlretrieve\u001b[0m\u001b[0;34m(\u001b[0m\u001b[0murl\u001b[0m\u001b[0;34m,\u001b[0m \u001b[0mcache_path\u001b[0m\u001b[0;34m)\u001b[0m\u001b[0;34m\u001b[0m\u001b[0;34m\u001b[0m\u001b[0m\n\u001b[1;32m    597\u001b[0m         \u001b[0mfull_path\u001b[0m \u001b[0;34m=\u001b[0m \u001b[0mcache_path\u001b[0m\u001b[0;34m\u001b[0m\u001b[0;34m\u001b[0m\u001b[0m\n",
            "\u001b[0;31mValueError\u001b[0m: 'age' is not one of the example datasets."
          ]
        }
      ]
    },
    {
      "cell_type": "code",
      "source": [
        "lungcancer = sns.load_dataset(\"lungcancer\")\n",
        "lungcancer.head()"
      ],
      "metadata": {
        "colab": {
          "base_uri": "https://localhost:8080/",
          "height": 305
        },
        "id": "AqaHCHhOCYN-",
        "outputId": "1f456f81-574f-4fb6-9f9c-77c51069d9cf"
      },
      "execution_count": null,
      "outputs": [
        {
          "output_type": "error",
          "ename": "ValueError",
          "evalue": "ignored",
          "traceback": [
            "\u001b[0;31m---------------------------------------------------------------------------\u001b[0m",
            "\u001b[0;31mValueError\u001b[0m                                Traceback (most recent call last)",
            "\u001b[0;32m<ipython-input-68-682166557b67>\u001b[0m in \u001b[0;36m<module>\u001b[0;34m()\u001b[0m\n\u001b[0;32m----> 1\u001b[0;31m \u001b[0mlungcancer\u001b[0m \u001b[0;34m=\u001b[0m \u001b[0msns\u001b[0m\u001b[0;34m.\u001b[0m\u001b[0mload_dataset\u001b[0m\u001b[0;34m(\u001b[0m\u001b[0;34m\"lungcancer\"\u001b[0m\u001b[0;34m)\u001b[0m\u001b[0;34m\u001b[0m\u001b[0;34m\u001b[0m\u001b[0m\n\u001b[0m\u001b[1;32m      2\u001b[0m \u001b[0mlungcancer\u001b[0m\u001b[0;34m.\u001b[0m\u001b[0mhead\u001b[0m\u001b[0;34m(\u001b[0m\u001b[0;34m)\u001b[0m\u001b[0;34m\u001b[0m\u001b[0;34m\u001b[0m\u001b[0m\n",
            "\u001b[0;32m/usr/local/lib/python3.7/dist-packages/seaborn/utils.py\u001b[0m in \u001b[0;36mload_dataset\u001b[0;34m(name, cache, data_home, **kws)\u001b[0m\n\u001b[1;32m    593\u001b[0m         \u001b[0;32mif\u001b[0m \u001b[0;32mnot\u001b[0m \u001b[0mos\u001b[0m\u001b[0;34m.\u001b[0m\u001b[0mpath\u001b[0m\u001b[0;34m.\u001b[0m\u001b[0mexists\u001b[0m\u001b[0;34m(\u001b[0m\u001b[0mcache_path\u001b[0m\u001b[0;34m)\u001b[0m\u001b[0;34m:\u001b[0m\u001b[0;34m\u001b[0m\u001b[0;34m\u001b[0m\u001b[0m\n\u001b[1;32m    594\u001b[0m             \u001b[0;32mif\u001b[0m \u001b[0mname\u001b[0m \u001b[0;32mnot\u001b[0m \u001b[0;32min\u001b[0m \u001b[0mget_dataset_names\u001b[0m\u001b[0;34m(\u001b[0m\u001b[0;34m)\u001b[0m\u001b[0;34m:\u001b[0m\u001b[0;34m\u001b[0m\u001b[0;34m\u001b[0m\u001b[0m\n\u001b[0;32m--> 595\u001b[0;31m                 \u001b[0;32mraise\u001b[0m \u001b[0mValueError\u001b[0m\u001b[0;34m(\u001b[0m\u001b[0;34mf\"'{name}' is not one of the example datasets.\"\u001b[0m\u001b[0;34m)\u001b[0m\u001b[0;34m\u001b[0m\u001b[0;34m\u001b[0m\u001b[0m\n\u001b[0m\u001b[1;32m    596\u001b[0m             \u001b[0murlretrieve\u001b[0m\u001b[0;34m(\u001b[0m\u001b[0murl\u001b[0m\u001b[0;34m,\u001b[0m \u001b[0mcache_path\u001b[0m\u001b[0;34m)\u001b[0m\u001b[0;34m\u001b[0m\u001b[0;34m\u001b[0m\u001b[0m\n\u001b[1;32m    597\u001b[0m         \u001b[0mfull_path\u001b[0m \u001b[0;34m=\u001b[0m \u001b[0mcache_path\u001b[0m\u001b[0;34m\u001b[0m\u001b[0;34m\u001b[0m\u001b[0m\n",
            "\u001b[0;31mValueError\u001b[0m: 'lungcancer' is not one of the example datasets."
          ]
        }
      ]
    },
    {
      "cell_type": "code",
      "source": [
        "test_df = pd.read_csv(\"/content/MyDrive/FAES_BIO309/Project_data/TrimmedDataSet.csv\")\n",
        "test_df = pd.read_csv(\"(\"/content/drive/My Drive/FAES_BIOF309/example_data/discrete/training_addit.csv\")\")"
      ],
      "metadata": {
        "colab": {
          "base_uri": "https://localhost:8080/",
          "height": 132
        },
        "id": "kIrWVGorCqx5",
        "outputId": "6e45fa9e-ecc5-441f-e129-8cf3d6f87bc1"
      },
      "execution_count": null,
      "outputs": [
        {
          "output_type": "error",
          "ename": "SyntaxError",
          "evalue": "ignored",
          "traceback": [
            "\u001b[0;36m  File \u001b[0;32m\"<ipython-input-69-3ea6a37cd094>\"\u001b[0;36m, line \u001b[0;32m2\u001b[0m\n\u001b[0;31m    test_df = pd.read_csv(\"(\"/content/drive/My Drive/FAES_BIOF309/example_data/discrete/training_addit.csv\")\")\u001b[0m\n\u001b[0m                                                   ^\u001b[0m\n\u001b[0;31mSyntaxError\u001b[0m\u001b[0;31m:\u001b[0m invalid syntax\n"
          ]
        }
      ]
    },
    {
      "cell_type": "markdown",
      "source": [
        "Ask prof of Line 20"
      ],
      "metadata": {
        "id": "MZhdZLb_WgNH"
      }
    },
    {
      "cell_type": "code",
      "source": [
        "\n",
        "import numpy as np\n",
        " pip install pip --upgrade\n",
        " pip --version\n"
      ],
      "metadata": {
        "id": "ZA_bqVyvQspq",
        "colab": {
          "base_uri": "https://localhost:8080/",
          "height": 132
        },
        "outputId": "73f7d064-eb38-44e9-a0b4-48e961e0d2e9"
      },
      "execution_count": null,
      "outputs": [
        {
          "output_type": "error",
          "ename": "IndentationError",
          "evalue": "ignored",
          "traceback": [
            "\u001b[0;36m  File \u001b[0;32m\"<ipython-input-70-b9e8171cc15e>\"\u001b[0;36m, line \u001b[0;32m3\u001b[0m\n\u001b[0;31m    pip install pip --upgrade\u001b[0m\n\u001b[0m    ^\u001b[0m\n\u001b[0;31mIndentationError\u001b[0m\u001b[0;31m:\u001b[0m unexpected indent\n"
          ]
        }
      ]
    },
    {
      "cell_type": "code",
      "source": [
        " print (\"Age_group variable explained\")\n",
        "# List of values for the age groups\n",
        "L = [1, 2, 3, 4]  \n",
        "array = np.array(L)  \n",
        "array\n",
        "print (\"1 refers to those with age less than or equal to 54, \")\n",
        "print (\"2 refer to those with age 55-64 yr, \")\n",
        "print (\"3 refer to those with age 65-74 yr, \")\n",
        "print (\"4 refer to those with age 75 yr or more \")"
      ],
      "metadata": {
        "colab": {
          "base_uri": "https://localhost:8080/"
        },
        "id": "Ci_ne5_PeK0B",
        "outputId": "ad5c42c9-a78b-4867-c96c-49d3d7581a27"
      },
      "execution_count": null,
      "outputs": [
        {
          "output_type": "stream",
          "name": "stdout",
          "text": [
            "Age_group variable explained\n",
            "1 refers to those with age less than or equal to 54, \n",
            "2 refer to those with age 55-64 yr, \n",
            "3 refer to those with age 65-74 yr, \n",
            "4 refer to those with age 75 yr or more \n"
          ]
        }
      ]
    },
    {
      "cell_type": "code",
      "source": [
        "#numpy array of strings\n",
        "print (\"Marital status of the responders, \")\n",
        "np.array(['1 refer to those who are single, ','2 refer to those who are married, ','3 refer to those who are divorced/spouse passed away/separated'])"
      ],
      "metadata": {
        "colab": {
          "base_uri": "https://localhost:8080/"
        },
        "id": "T7RCAJz0XI17",
        "outputId": "1c61741b-ba18-4901-bc8e-d39cacdcead2"
      },
      "execution_count": null,
      "outputs": [
        {
          "output_type": "stream",
          "name": "stdout",
          "text": [
            "Marital status of the responders, \n"
          ]
        },
        {
          "output_type": "execute_result",
          "data": {
            "text/plain": [
              "array(['1 refer to those who are single, ',\n",
              "       '2 refer to those who are married, ',\n",
              "       '3 refer to those who are divorced/spouse passed away/separated'],\n",
              "      dtype='<U62')"
            ]
          },
          "metadata": {},
          "execution_count": 46
        }
      ]
    },
    {
      "cell_type": "code",
      "source": [
        "# This is your data in the text file\n",
        " \n",
        "# Import your data\n",
        "x, y, z = np.loadtxt('smalldataintxt.txt',\n",
        "                    skiprows=1,\n",
        "                    unpack=True)"
      ],
      "metadata": {
        "colab": {
          "base_uri": "https://localhost:8080/",
          "height": 347
        },
        "id": "jjItXkGBfK-p",
        "outputId": "e4a123f9-7439-4379-daf1-bf2c9d4bb89c"
      },
      "execution_count": null,
      "outputs": [
        {
          "output_type": "error",
          "ename": "OSError",
          "evalue": "ignored",
          "traceback": [
            "\u001b[0;31m---------------------------------------------------------------------------\u001b[0m",
            "\u001b[0;31mOSError\u001b[0m                                   Traceback (most recent call last)",
            "\u001b[0;32m<ipython-input-52-fba4c5a827c6>\u001b[0m in \u001b[0;36m<module>\u001b[0;34m()\u001b[0m\n\u001b[1;32m      4\u001b[0m x, y, z = np.loadtxt('smalldataintxt.txt',\n\u001b[1;32m      5\u001b[0m                     \u001b[0mskiprows\u001b[0m\u001b[0;34m=\u001b[0m\u001b[0;36m1\u001b[0m\u001b[0;34m,\u001b[0m\u001b[0;34m\u001b[0m\u001b[0;34m\u001b[0m\u001b[0m\n\u001b[0;32m----> 6\u001b[0;31m                     unpack=True)\n\u001b[0m",
            "\u001b[0;32m/usr/local/lib/python3.7/dist-packages/numpy/lib/npyio.py\u001b[0m in \u001b[0;36mloadtxt\u001b[0;34m(fname, dtype, comments, delimiter, converters, skiprows, usecols, unpack, ndmin, encoding, max_rows, like)\u001b[0m\n\u001b[1;32m   1065\u001b[0m             \u001b[0mfname\u001b[0m \u001b[0;34m=\u001b[0m \u001b[0mos_fspath\u001b[0m\u001b[0;34m(\u001b[0m\u001b[0mfname\u001b[0m\u001b[0;34m)\u001b[0m\u001b[0;34m\u001b[0m\u001b[0;34m\u001b[0m\u001b[0m\n\u001b[1;32m   1066\u001b[0m         \u001b[0;32mif\u001b[0m \u001b[0m_is_string_like\u001b[0m\u001b[0;34m(\u001b[0m\u001b[0mfname\u001b[0m\u001b[0;34m)\u001b[0m\u001b[0;34m:\u001b[0m\u001b[0;34m\u001b[0m\u001b[0;34m\u001b[0m\u001b[0m\n\u001b[0;32m-> 1067\u001b[0;31m             \u001b[0mfh\u001b[0m \u001b[0;34m=\u001b[0m \u001b[0mnp\u001b[0m\u001b[0;34m.\u001b[0m\u001b[0mlib\u001b[0m\u001b[0;34m.\u001b[0m\u001b[0m_datasource\u001b[0m\u001b[0;34m.\u001b[0m\u001b[0mopen\u001b[0m\u001b[0;34m(\u001b[0m\u001b[0mfname\u001b[0m\u001b[0;34m,\u001b[0m \u001b[0;34m'rt'\u001b[0m\u001b[0;34m,\u001b[0m \u001b[0mencoding\u001b[0m\u001b[0;34m=\u001b[0m\u001b[0mencoding\u001b[0m\u001b[0;34m)\u001b[0m\u001b[0;34m\u001b[0m\u001b[0;34m\u001b[0m\u001b[0m\n\u001b[0m\u001b[1;32m   1068\u001b[0m             \u001b[0mfencoding\u001b[0m \u001b[0;34m=\u001b[0m \u001b[0mgetattr\u001b[0m\u001b[0;34m(\u001b[0m\u001b[0mfh\u001b[0m\u001b[0;34m,\u001b[0m \u001b[0;34m'encoding'\u001b[0m\u001b[0;34m,\u001b[0m \u001b[0;34m'latin1'\u001b[0m\u001b[0;34m)\u001b[0m\u001b[0;34m\u001b[0m\u001b[0;34m\u001b[0m\u001b[0m\n\u001b[1;32m   1069\u001b[0m             \u001b[0mfh\u001b[0m \u001b[0;34m=\u001b[0m \u001b[0miter\u001b[0m\u001b[0;34m(\u001b[0m\u001b[0mfh\u001b[0m\u001b[0;34m)\u001b[0m\u001b[0;34m\u001b[0m\u001b[0;34m\u001b[0m\u001b[0m\n",
            "\u001b[0;32m/usr/local/lib/python3.7/dist-packages/numpy/lib/_datasource.py\u001b[0m in \u001b[0;36mopen\u001b[0;34m(path, mode, destpath, encoding, newline)\u001b[0m\n\u001b[1;32m    191\u001b[0m \u001b[0;34m\u001b[0m\u001b[0m\n\u001b[1;32m    192\u001b[0m     \u001b[0mds\u001b[0m \u001b[0;34m=\u001b[0m \u001b[0mDataSource\u001b[0m\u001b[0;34m(\u001b[0m\u001b[0mdestpath\u001b[0m\u001b[0;34m)\u001b[0m\u001b[0;34m\u001b[0m\u001b[0;34m\u001b[0m\u001b[0m\n\u001b[0;32m--> 193\u001b[0;31m     \u001b[0;32mreturn\u001b[0m \u001b[0mds\u001b[0m\u001b[0;34m.\u001b[0m\u001b[0mopen\u001b[0m\u001b[0;34m(\u001b[0m\u001b[0mpath\u001b[0m\u001b[0;34m,\u001b[0m \u001b[0mmode\u001b[0m\u001b[0;34m,\u001b[0m \u001b[0mencoding\u001b[0m\u001b[0;34m=\u001b[0m\u001b[0mencoding\u001b[0m\u001b[0;34m,\u001b[0m \u001b[0mnewline\u001b[0m\u001b[0;34m=\u001b[0m\u001b[0mnewline\u001b[0m\u001b[0;34m)\u001b[0m\u001b[0;34m\u001b[0m\u001b[0;34m\u001b[0m\u001b[0m\n\u001b[0m\u001b[1;32m    194\u001b[0m \u001b[0;34m\u001b[0m\u001b[0m\n\u001b[1;32m    195\u001b[0m \u001b[0;34m\u001b[0m\u001b[0m\n",
            "\u001b[0;32m/usr/local/lib/python3.7/dist-packages/numpy/lib/_datasource.py\u001b[0m in \u001b[0;36mopen\u001b[0;34m(self, path, mode, encoding, newline)\u001b[0m\n\u001b[1;32m    531\u001b[0m                                       encoding=encoding, newline=newline)\n\u001b[1;32m    532\u001b[0m         \u001b[0;32melse\u001b[0m\u001b[0;34m:\u001b[0m\u001b[0;34m\u001b[0m\u001b[0;34m\u001b[0m\u001b[0m\n\u001b[0;32m--> 533\u001b[0;31m             \u001b[0;32mraise\u001b[0m \u001b[0mIOError\u001b[0m\u001b[0;34m(\u001b[0m\u001b[0;34m\"%s not found.\"\u001b[0m \u001b[0;34m%\u001b[0m \u001b[0mpath\u001b[0m\u001b[0;34m)\u001b[0m\u001b[0;34m\u001b[0m\u001b[0;34m\u001b[0m\u001b[0m\n\u001b[0m\u001b[1;32m    534\u001b[0m \u001b[0;34m\u001b[0m\u001b[0m\n\u001b[1;32m    535\u001b[0m \u001b[0;34m\u001b[0m\u001b[0m\n",
            "\u001b[0;31mOSError\u001b[0m: smalldataintxt.txt not found."
          ]
        }
      ]
    },
    {
      "cell_type": "markdown",
      "source": [
        "Ask Prof Line 27 transpose data did not work"
      ],
      "metadata": {
        "id": "6iKItoQ-Y2_v"
      }
    },
    {
      "cell_type": "code",
      "source": [
        "import pandas as pd\n",
        "pd.read_csv(\"/content/drive/My Drive/FAES_BIOF309/Project_data/TrimmedDataSet.csv\"), parse_dates=True)"
      ],
      "metadata": {
        "colab": {
          "base_uri": "https://localhost:8080/",
          "height": 132
        },
        "id": "nFvPwDy7jYjH",
        "outputId": "6428aad9-f69f-401f-d971-6b0eedf342e6"
      },
      "execution_count": null,
      "outputs": [
        {
          "output_type": "error",
          "ename": "SyntaxError",
          "evalue": "ignored",
          "traceback": [
            "\u001b[0;36m  File \u001b[0;32m\"<ipython-input-60-007e3c7711fd>\"\u001b[0;36m, line \u001b[0;32m2\u001b[0m\n\u001b[0;31m    pd.read_csv(\"/content/drive/My Drive/FAES_BIOF309/Project_data/TrimmedDataSet.csv\"), parse_dates=True)\u001b[0m\n\u001b[0m                                                                                                         ^\u001b[0m\n\u001b[0;31mSyntaxError\u001b[0m\u001b[0;31m:\u001b[0m invalid syntax\n"
          ]
        }
      ]
    },
    {
      "cell_type": "code",
      "source": [
        "import csv\n",
        "#transpose data\n",
        "import pandas as pd\n",
        "long_df = pd.read_csv(\"TrimmedDataSet.csv\")\", engine='c')\n",
        "long_df.head()"
      ],
      "metadata": {
        "colab": {
          "base_uri": "https://localhost:8080/",
          "height": 132
        },
        "id": "738LccN3Xjms",
        "outputId": "68154c6c-bba6-4e75-bc6f-648a6d9c0689"
      },
      "execution_count": null,
      "outputs": [
        {
          "output_type": "error",
          "ename": "SyntaxError",
          "evalue": "ignored",
          "traceback": [
            "\u001b[0;36m  File \u001b[0;32m\"<ipython-input-73-f4ec73998f75>\"\u001b[0;36m, line \u001b[0;32m4\u001b[0m\n\u001b[0;31m    long_df = pd.read_csv(\"TrimmedDataSet.csv\")\", engine='c')\u001b[0m\n\u001b[0m                                                             ^\u001b[0m\n\u001b[0;31mSyntaxError\u001b[0m\u001b[0;31m:\u001b[0m EOL while scanning string literal\n"
          ]
        }
      ]
    },
    {
      "cell_type": "code",
      "source": [
        "wide_df = long_df.transpose()\n",
        "wide_df.head()"
      ],
      "metadata": {
        "colab": {
          "base_uri": "https://localhost:8080/",
          "height": 184
        },
        "id": "cXOO4dxxZdCI",
        "outputId": "3ba5003a-9a85-42c6-ea61-a6f45be87a7f"
      },
      "execution_count": null,
      "outputs": [
        {
          "output_type": "error",
          "ename": "NameError",
          "evalue": "ignored",
          "traceback": [
            "\u001b[0;31m---------------------------------------------------------------------------\u001b[0m",
            "\u001b[0;31mNameError\u001b[0m                                 Traceback (most recent call last)",
            "\u001b[0;32m<ipython-input-57-1c8653a0ea04>\u001b[0m in \u001b[0;36m<module>\u001b[0;34m()\u001b[0m\n\u001b[0;32m----> 1\u001b[0;31m \u001b[0mwide_df\u001b[0m \u001b[0;34m=\u001b[0m \u001b[0mlong_df\u001b[0m\u001b[0;34m.\u001b[0m\u001b[0mtranspose\u001b[0m\u001b[0;34m(\u001b[0m\u001b[0;34m)\u001b[0m\u001b[0;34m\u001b[0m\u001b[0;34m\u001b[0m\u001b[0m\n\u001b[0m\u001b[1;32m      2\u001b[0m \u001b[0mwide_df\u001b[0m\u001b[0;34m.\u001b[0m\u001b[0mhead\u001b[0m\u001b[0;34m(\u001b[0m\u001b[0;34m)\u001b[0m\u001b[0;34m\u001b[0m\u001b[0;34m\u001b[0m\u001b[0m\n",
            "\u001b[0;31mNameError\u001b[0m: name 'long_df' is not defined"
          ]
        }
      ]
    },
    {
      "cell_type": "code",
      "source": [
        "#count unique values \n",
        "age_counts = high_smellers_reordered_df['age'].value_counts()\n",
        "print(age_counts)\n"
      ],
      "metadata": {
        "id": "Z3fOyQpvaRAP"
      },
      "execution_count": null,
      "outputs": []
    },
    {
      "cell_type": "code",
      "source": [
        "import TrimmedDataSet as pd"
      ],
      "metadata": {
        "id": "kTDSHNRAkFyC"
      },
      "execution_count": null,
      "outputs": []
    },
    {
      "cell_type": "code",
      "source": [
        "import pandas as pd\n",
        "df.to_csv('TrimmedDataSet.csv')"
      ],
      "metadata": {
        "id": "8h_17nTRkUnn"
      },
      "execution_count": null,
      "outputs": []
    },
    {
      "cell_type": "code",
      "source": [
        "import pandas as pd\n",
        "writer = pd.ExcelWriter('TrimmedDataSet')\n",
        "df.to_excel(writer, 'DataFrame')\n",
        "writer.save()"
      ],
      "metadata": {
        "id": "9iwm6MyVkY4d"
      },
      "execution_count": null,
      "outputs": []
    },
    {
      "cell_type": "code",
      "source": [
        "import pandas as pd\n",
        "lungdata = pd.read_csv('TrimmedDataSetforTeamProject.csv', names=['ID',\t'LungCA',\t'Gender',\t'age',\t'age_group'])\n",
        "                       \n",
        "print(lungdata.head())"
      ],
      "metadata": {
        "id": "afqT2O2ZkjEF"
      },
      "execution_count": null,
      "outputs": []
    },
    {
      "cell_type": "code",
      "source": [
        "pip install matplotlib\n"
      ],
      "metadata": {
        "colab": {
          "base_uri": "https://localhost:8080/"
        },
        "id": "-4idHNkglv3B",
        "outputId": "3e085526-bfc2-4825-b49c-2327ba927580"
      },
      "execution_count": null,
      "outputs": [
        {
          "output_type": "stream",
          "name": "stdout",
          "text": [
            "Looking in indexes: https://pypi.org/simple, https://us-python.pkg.dev/colab-wheels/public/simple/\n",
            "Requirement already satisfied: matplotlib in /usr/local/lib/python3.7/dist-packages (3.2.2)\n",
            "Requirement already satisfied: python-dateutil>=2.1 in /usr/local/lib/python3.7/dist-packages (from matplotlib) (2.8.2)\n",
            "Requirement already satisfied: cycler>=0.10 in /usr/local/lib/python3.7/dist-packages (from matplotlib) (0.11.0)\n",
            "Requirement already satisfied: pyparsing!=2.0.4,!=2.1.2,!=2.1.6,>=2.0.1 in /usr/local/lib/python3.7/dist-packages (from matplotlib) (3.0.9)\n",
            "Requirement already satisfied: numpy>=1.11 in /usr/local/lib/python3.7/dist-packages (from matplotlib) (1.21.6)\n",
            "Requirement already satisfied: kiwisolver>=1.0.1 in /usr/local/lib/python3.7/dist-packages (from matplotlib) (1.4.4)\n",
            "Requirement already satisfied: typing-extensions in /usr/local/lib/python3.7/dist-packages (from kiwisolver>=1.0.1->matplotlib) (4.1.1)\n",
            "Requirement already satisfied: six>=1.5 in /usr/local/lib/python3.7/dist-packages (from python-dateutil>=2.1->matplotlib) (1.15.0)\n"
          ]
        }
      ]
    },
    {
      "cell_type": "markdown",
      "source": [
        "5b data visualization\n"
      ],
      "metadata": {
        "id": "EXxqxZFcwKM0"
      }
    },
    {
      "cell_type": "code",
      "source": [
        "#data mount \n",
        "import os\n",
        "from google.colab import drive\n",
        "drive.mount('/content/drive/')\n",
        "os.chdir(\"/content/drive/My Drive/FAES_BIOF309/\")"
      ],
      "metadata": {
        "colab": {
          "base_uri": "https://localhost:8080/"
        },
        "id": "ks9GQvr8wM42",
        "outputId": "941469a7-d2f9-4743-9609-c2fe2de9a840"
      },
      "execution_count": null,
      "outputs": [
        {
          "output_type": "stream",
          "name": "stdout",
          "text": [
            "Drive already mounted at /content/drive/; to attempt to forcibly remount, call drive.mount(\"/content/drive/\", force_remount=True).\n"
          ]
        }
      ]
    },
    {
      "cell_type": "markdown",
      "source": [
        ""
      ],
      "metadata": {
        "id": "AWtvjvqpwT_z"
      }
    },
    {
      "cell_type": "markdown",
      "source": [
        "#6 Cynthia"
      ],
      "metadata": {
        "id": "tCfwkLud3HnP"
      }
    },
    {
      "cell_type": "code",
      "source": [
        "#6 Cynthia"
      ],
      "metadata": {
        "id": "JYa-wAAjJXHU"
      },
      "execution_count": null,
      "outputs": []
    }
  ]
}